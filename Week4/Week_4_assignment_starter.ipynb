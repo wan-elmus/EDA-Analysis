{
 "cells": [
  {
   "cell_type": "markdown",
   "id": "micro-award",
   "metadata": {},
   "source": [
    "# Tree-based ML and Feature Selection"
   ]
  },
  {
   "cell_type": "markdown",
   "id": "consecutive-bangladesh",
   "metadata": {},
   "source": [
    "**This week, your assignment is:**\n",
    "\n",
    "- use our prepared churn data from week 2\n",
    "- break our data into features and targets, and train and test sets\n",
    "- use sklearn to fit a decision tree to the training data\n",
    "    - plot the decision tree\n",
    "    - change the max_depth of the decision tree to improve the model if needed (or tune it with a hyperparameter search)\n",
    "- plot the correlations between features and targets\n",
    "- use sklearn to fit a random forest model to predict churn from our dataset\n",
    "    - plot the feature importances from the random forest\n",
    "- choose some of the less-important features to remove from the model using feature importances and correlations and fit the random forest model to the new data\n",
    "    - examine the feature importances after removing less important features\n",
    "- write a short analysis of the results of your work\n",
    "\n",
    "\n",
    "***Optional* advanced tasks:**\n",
    "- use H2O to fit a random forest to our original, unmodified data (missing values and all)\n",
    "    - you can decide if you want to break the data into train and test sets or not, but remember it's best to evaluate performance on a test or validation dataset\n",
    "    - plot the H2O random forest's feature importances\n",
    "- tune the random forest hyperparameters for the sklearn and/or H2O models\n",
    "- use forward and/or backward selection with feature importances from a random forest model\n",
    "- use recursive feature selection\n",
    "- compare the various feature selection methods you tried and write a short summary"
   ]
  },
  {
   "cell_type": "code",
   "execution_count": null,
   "id": "78984d99",
   "metadata": {},
   "outputs": [],
   "source": []
  },
  {
   "cell_type": "markdown",
   "id": "76d23765",
   "metadata": {},
   "source": [
    "# Summary"
   ]
  },
  {
   "cell_type": "markdown",
   "id": "77ceaa0d",
   "metadata": {},
   "source": [
    "Be sure to write a summary of your work and explain the results."
   ]
  }
 ],
 "metadata": {
  "kernelspec": {
   "display_name": "Python 3",
   "language": "python",
   "name": "python3"
  },
  "language_info": {
   "codemirror_mode": {
    "name": "ipython",
    "version": 3
   },
   "file_extension": ".py",
   "mimetype": "text/x-python",
   "name": "python",
   "nbconvert_exporter": "python",
   "pygments_lexer": "ipython3",
   "version": "3.8.8"
  }
 },
 "nbformat": 4,
 "nbformat_minor": 5
}
