{
 "cells": [
  {
   "cell_type": "markdown",
   "id": "775685a8-d46f-4dba-ab43-f4a393364dbd",
   "metadata": {},
   "source": [
    "# Notebook used in the live lecture"
   ]
  },
  {
   "cell_type": "markdown",
   "id": "phantom-danish",
   "metadata": {},
   "source": [
    "# From the expert part 2: the data science process"
   ]
  },
  {
   "cell_type": "markdown",
   "id": "surgical-scratch",
   "metadata": {},
   "source": [
    "Last week, we prepared our data for machine learning. We did the following:\n",
    "- looked for outliers and dealt with them if needed\n",
    "- looked for missing values or other strange values and dealt with them if needed\n",
    "- converted all strings to numbers\n",
    "- created a few new features by combining columns (feature engineering)\n",
    "\n",
    "We are now ready for step 4 in the CRISP-DM process:\n",
    "\n",
    "1. **Business understanding (determining our goals and purpose of the project)**\n",
    "\n",
    "Can we predict the occurance of diabetes from health and demographic data?\n",
    "\n",
    "2. **Data Understanding**\n",
    "\n",
    "Week 1 - EDA and visualization\n",
    "\n",
    "3. **Data Preparation**\n",
    "\n",
    "Data cleaning, feature engineering\n",
    "\n",
    "4. **Modeling**\n",
    "\n",
    "The modeling step usually involves  machine learning, but it could involve other statistics (e.g an A/B test using a t-test). We want to be able to generate some useful model to satisfy our goal from step 1. \n",
    "\n",
    "5. **Evaluation**\n",
    "\n",
    "Once the first pass at modeling or business intelligence component has been completed, we want to evaluate performance. For a machine learning model, we can use metrics (like accuracy) to measure how well our system is performing. We want to see how well our solution has addressed our issue we started with. We might go back to previous steps at this point to try and improve our model or project, or even spin off into a new project.\n",
    "\n",
    "6. **Deployment**\n",
    "\n",
    "\n",
    "Once we are happy with the results of our model, stats, or business intelligence (BI), we can deploy it. For BI, this might be a report or automated reporting we set up. For machine learning or other statistics, this could be a software system (e.g. an API) we set up and make available to clients or our organization. We want to continuously monitor performance of the system to make sure it still works well and as expected. We should also document the results and status of the project (usually in a report of some kind)."
   ]
  },
  {
   "cell_type": "code",
   "execution_count": 1,
   "id": "d8412389-0789-453c-816a-7c866fadda82",
   "metadata": {
    "tags": []
   },
   "outputs": [],
   "source": [
    "import warnings\n",
    "warnings.filterwarnings(\"ignore\")"
   ]
  },
  {
   "cell_type": "code",
   "execution_count": 2,
   "id": "outside-barrel",
   "metadata": {},
   "outputs": [],
   "source": [
    "import pandas as pd\n",
    "from sklearn.model_selection import train_test_split\n",
    "from sklearn.linear_model import LogisticRegression\n",
    "#from sklearn.metrics import plot_confusion_matrix"
   ]
  },
  {
   "cell_type": "markdown",
   "id": "baeca01c-020b-44f6-be89-6ce310297e7a",
   "metadata": {},
   "source": [
    "### Live Lecture Additions\n",
    "\n",
    "<div class=\"alert alert-block alert-info\">\n",
    "<b>Lecture Additions:</b> <br>\n",
    "The first step in any type of data analysis is to **look** at your data.\n",
    "\n",
    "I **strongly** encourage you to look at the data file in a programmer's text editor. **NOT** Notepad. **NOT** Excel. Those programs manipulate the view of the data in subtle ways that can cause problems. I use Sublime and Notepad++.\n",
    "\n",
    "You can also look at the first few rows of your dataset from within a Jupyter notebook.  However, this **does not replace** the need to visually inspect **the entire dataset** outside of your notebook.\n",
    "    \n",
    "<b>Helpful Hint::</b> You can execute os commands from within your notebook by starting the command with '!'.  <br>\n",
    "For example, to list out al the files in a directory,<br>\n",
    "* On a PC:  type '!dir' <br>\n",
    "* On a MAC: type '!ls' <br>\n",
    "</div>"
   ]
  },
  {
   "cell_type": "code",
   "execution_count": 5,
   "id": "ad321d4e-1326-4460-afd9-e242d33899a1",
   "metadata": {},
   "outputs": [
    {
     "name": "stdout",
     "output_type": "stream",
     "text": [
      "Patient number,Cholesterol,Glucose,HDL Chol,Age,Gender,Height,Weight,BMI,Systolic BP,Diastolic BP,waist,hip,Diabetes,waist_hip_ratio,hdl_chol_ratio\n",
      "1,193,77,49,19,1,61,119,22.5,118,70,32,38,0,0.8421052631578947,0.2538860103626943\n",
      "2,146,79,41,19,1,60,135,26.4,108,58,33,40,0,0.825,0.2808219178082192\n",
      "3,217,75,54,20,1,67,187,29.3,110,72,40,45,0,0.8888888888888888,0.2488479262672811\n",
      "4,226,97,70,20,1,64,114,19.6,122,64,31,39,0,0.7948717948717948,0.30973451327433627\n",
      "5,164,91,67,20,1,70,141,20.2,122,86,32,39,0,0.8205128205128205,0.40853658536585363\n",
      "6,170,69,64,20,1,64,161,27.6,108,70,37,40,0,0.925,0.3764705882352941\n",
      "7,149,77,49,20,1,62,115,21.0,105,82,31,37,0,0.8378378378378378,0.3288590604026846\n",
      "8,164,71,63,20,0,72,145,19.7,108,78,29,36,0,0.8055555555555556,0.38414634146341464\n",
      "9,230,112,64,20,0,67,159,24.9,100,90,31,39,0,0.7948717948717948,0.2782608695652174\n"
     ]
    }
   ],
   "source": [
    "!head ../data/prepped_diabetes_data.csv"
   ]
  },
  {
   "cell_type": "code",
   "execution_count": 3,
   "id": "speaking-university",
   "metadata": {},
   "outputs": [
    {
     "data": {
      "text/html": [
       "<div>\n",
       "<style scoped>\n",
       "    .dataframe tbody tr th:only-of-type {\n",
       "        vertical-align: middle;\n",
       "    }\n",
       "\n",
       "    .dataframe tbody tr th {\n",
       "        vertical-align: top;\n",
       "    }\n",
       "\n",
       "    .dataframe thead th {\n",
       "        text-align: right;\n",
       "    }\n",
       "</style>\n",
       "<table border=\"1\" class=\"dataframe\">\n",
       "  <thead>\n",
       "    <tr style=\"text-align: right;\">\n",
       "      <th></th>\n",
       "      <th>Cholesterol</th>\n",
       "      <th>Glucose</th>\n",
       "      <th>HDL Chol</th>\n",
       "      <th>Age</th>\n",
       "      <th>Gender</th>\n",
       "      <th>Height</th>\n",
       "      <th>Weight</th>\n",
       "      <th>BMI</th>\n",
       "      <th>Systolic BP</th>\n",
       "      <th>Diastolic BP</th>\n",
       "      <th>waist</th>\n",
       "      <th>hip</th>\n",
       "      <th>Diabetes</th>\n",
       "      <th>waist_hip_ratio</th>\n",
       "      <th>hdl_chol_ratio</th>\n",
       "    </tr>\n",
       "    <tr>\n",
       "      <th>Patient number</th>\n",
       "      <th></th>\n",
       "      <th></th>\n",
       "      <th></th>\n",
       "      <th></th>\n",
       "      <th></th>\n",
       "      <th></th>\n",
       "      <th></th>\n",
       "      <th></th>\n",
       "      <th></th>\n",
       "      <th></th>\n",
       "      <th></th>\n",
       "      <th></th>\n",
       "      <th></th>\n",
       "      <th></th>\n",
       "      <th></th>\n",
       "    </tr>\n",
       "  </thead>\n",
       "  <tbody>\n",
       "    <tr>\n",
       "      <th>1</th>\n",
       "      <td>193</td>\n",
       "      <td>77</td>\n",
       "      <td>49</td>\n",
       "      <td>19</td>\n",
       "      <td>1</td>\n",
       "      <td>61</td>\n",
       "      <td>119</td>\n",
       "      <td>22.5</td>\n",
       "      <td>118</td>\n",
       "      <td>70</td>\n",
       "      <td>32</td>\n",
       "      <td>38</td>\n",
       "      <td>0</td>\n",
       "      <td>0.842105</td>\n",
       "      <td>0.253886</td>\n",
       "    </tr>\n",
       "    <tr>\n",
       "      <th>2</th>\n",
       "      <td>146</td>\n",
       "      <td>79</td>\n",
       "      <td>41</td>\n",
       "      <td>19</td>\n",
       "      <td>1</td>\n",
       "      <td>60</td>\n",
       "      <td>135</td>\n",
       "      <td>26.4</td>\n",
       "      <td>108</td>\n",
       "      <td>58</td>\n",
       "      <td>33</td>\n",
       "      <td>40</td>\n",
       "      <td>0</td>\n",
       "      <td>0.825000</td>\n",
       "      <td>0.280822</td>\n",
       "    </tr>\n",
       "    <tr>\n",
       "      <th>3</th>\n",
       "      <td>217</td>\n",
       "      <td>75</td>\n",
       "      <td>54</td>\n",
       "      <td>20</td>\n",
       "      <td>1</td>\n",
       "      <td>67</td>\n",
       "      <td>187</td>\n",
       "      <td>29.3</td>\n",
       "      <td>110</td>\n",
       "      <td>72</td>\n",
       "      <td>40</td>\n",
       "      <td>45</td>\n",
       "      <td>0</td>\n",
       "      <td>0.888889</td>\n",
       "      <td>0.248848</td>\n",
       "    </tr>\n",
       "    <tr>\n",
       "      <th>4</th>\n",
       "      <td>226</td>\n",
       "      <td>97</td>\n",
       "      <td>70</td>\n",
       "      <td>20</td>\n",
       "      <td>1</td>\n",
       "      <td>64</td>\n",
       "      <td>114</td>\n",
       "      <td>19.6</td>\n",
       "      <td>122</td>\n",
       "      <td>64</td>\n",
       "      <td>31</td>\n",
       "      <td>39</td>\n",
       "      <td>0</td>\n",
       "      <td>0.794872</td>\n",
       "      <td>0.309735</td>\n",
       "    </tr>\n",
       "    <tr>\n",
       "      <th>5</th>\n",
       "      <td>164</td>\n",
       "      <td>91</td>\n",
       "      <td>67</td>\n",
       "      <td>20</td>\n",
       "      <td>1</td>\n",
       "      <td>70</td>\n",
       "      <td>141</td>\n",
       "      <td>20.2</td>\n",
       "      <td>122</td>\n",
       "      <td>86</td>\n",
       "      <td>32</td>\n",
       "      <td>39</td>\n",
       "      <td>0</td>\n",
       "      <td>0.820513</td>\n",
       "      <td>0.408537</td>\n",
       "    </tr>\n",
       "    <tr>\n",
       "      <th>...</th>\n",
       "      <td>...</td>\n",
       "      <td>...</td>\n",
       "      <td>...</td>\n",
       "      <td>...</td>\n",
       "      <td>...</td>\n",
       "      <td>...</td>\n",
       "      <td>...</td>\n",
       "      <td>...</td>\n",
       "      <td>...</td>\n",
       "      <td>...</td>\n",
       "      <td>...</td>\n",
       "      <td>...</td>\n",
       "      <td>...</td>\n",
       "      <td>...</td>\n",
       "      <td>...</td>\n",
       "    </tr>\n",
       "    <tr>\n",
       "      <th>386</th>\n",
       "      <td>227</td>\n",
       "      <td>105</td>\n",
       "      <td>44</td>\n",
       "      <td>83</td>\n",
       "      <td>1</td>\n",
       "      <td>59</td>\n",
       "      <td>125</td>\n",
       "      <td>25.2</td>\n",
       "      <td>150</td>\n",
       "      <td>90</td>\n",
       "      <td>35</td>\n",
       "      <td>40</td>\n",
       "      <td>0</td>\n",
       "      <td>0.875000</td>\n",
       "      <td>0.193833</td>\n",
       "    </tr>\n",
       "    <tr>\n",
       "      <th>387</th>\n",
       "      <td>226</td>\n",
       "      <td>279</td>\n",
       "      <td>52</td>\n",
       "      <td>84</td>\n",
       "      <td>1</td>\n",
       "      <td>60</td>\n",
       "      <td>192</td>\n",
       "      <td>37.5</td>\n",
       "      <td>144</td>\n",
       "      <td>88</td>\n",
       "      <td>41</td>\n",
       "      <td>48</td>\n",
       "      <td>1</td>\n",
       "      <td>0.854167</td>\n",
       "      <td>0.230088</td>\n",
       "    </tr>\n",
       "    <tr>\n",
       "      <th>388</th>\n",
       "      <td>301</td>\n",
       "      <td>90</td>\n",
       "      <td>118</td>\n",
       "      <td>89</td>\n",
       "      <td>1</td>\n",
       "      <td>61</td>\n",
       "      <td>115</td>\n",
       "      <td>21.7</td>\n",
       "      <td>218</td>\n",
       "      <td>90</td>\n",
       "      <td>31</td>\n",
       "      <td>41</td>\n",
       "      <td>0</td>\n",
       "      <td>0.756098</td>\n",
       "      <td>0.392027</td>\n",
       "    </tr>\n",
       "    <tr>\n",
       "      <th>389</th>\n",
       "      <td>232</td>\n",
       "      <td>184</td>\n",
       "      <td>114</td>\n",
       "      <td>91</td>\n",
       "      <td>1</td>\n",
       "      <td>61</td>\n",
       "      <td>127</td>\n",
       "      <td>24.0</td>\n",
       "      <td>170</td>\n",
       "      <td>82</td>\n",
       "      <td>35</td>\n",
       "      <td>38</td>\n",
       "      <td>1</td>\n",
       "      <td>0.921053</td>\n",
       "      <td>0.491379</td>\n",
       "    </tr>\n",
       "    <tr>\n",
       "      <th>390</th>\n",
       "      <td>165</td>\n",
       "      <td>94</td>\n",
       "      <td>69</td>\n",
       "      <td>92</td>\n",
       "      <td>1</td>\n",
       "      <td>62</td>\n",
       "      <td>217</td>\n",
       "      <td>39.7</td>\n",
       "      <td>160</td>\n",
       "      <td>82</td>\n",
       "      <td>51</td>\n",
       "      <td>51</td>\n",
       "      <td>0</td>\n",
       "      <td>1.000000</td>\n",
       "      <td>0.418182</td>\n",
       "    </tr>\n",
       "  </tbody>\n",
       "</table>\n",
       "<p>390 rows × 15 columns</p>\n",
       "</div>"
      ],
      "text/plain": [
       "                Cholesterol  Glucose  HDL Chol  Age  Gender  Height  Weight  \\\n",
       "Patient number                                                                \n",
       "1                       193       77        49   19       1      61     119   \n",
       "2                       146       79        41   19       1      60     135   \n",
       "3                       217       75        54   20       1      67     187   \n",
       "4                       226       97        70   20       1      64     114   \n",
       "5                       164       91        67   20       1      70     141   \n",
       "...                     ...      ...       ...  ...     ...     ...     ...   \n",
       "386                     227      105        44   83       1      59     125   \n",
       "387                     226      279        52   84       1      60     192   \n",
       "388                     301       90       118   89       1      61     115   \n",
       "389                     232      184       114   91       1      61     127   \n",
       "390                     165       94        69   92       1      62     217   \n",
       "\n",
       "                 BMI  Systolic BP  Diastolic BP  waist  hip  Diabetes  \\\n",
       "Patient number                                                          \n",
       "1               22.5          118            70     32   38         0   \n",
       "2               26.4          108            58     33   40         0   \n",
       "3               29.3          110            72     40   45         0   \n",
       "4               19.6          122            64     31   39         0   \n",
       "5               20.2          122            86     32   39         0   \n",
       "...              ...          ...           ...    ...  ...       ...   \n",
       "386             25.2          150            90     35   40         0   \n",
       "387             37.5          144            88     41   48         1   \n",
       "388             21.7          218            90     31   41         0   \n",
       "389             24.0          170            82     35   38         1   \n",
       "390             39.7          160            82     51   51         0   \n",
       "\n",
       "                waist_hip_ratio  hdl_chol_ratio  \n",
       "Patient number                                   \n",
       "1                      0.842105        0.253886  \n",
       "2                      0.825000        0.280822  \n",
       "3                      0.888889        0.248848  \n",
       "4                      0.794872        0.309735  \n",
       "5                      0.820513        0.408537  \n",
       "...                         ...             ...  \n",
       "386                    0.875000        0.193833  \n",
       "387                    0.854167        0.230088  \n",
       "388                    0.756098        0.392027  \n",
       "389                    0.921053        0.491379  \n",
       "390                    1.000000        0.418182  \n",
       "\n",
       "[390 rows x 15 columns]"
      ]
     },
     "execution_count": 3,
     "metadata": {},
     "output_type": "execute_result"
    }
   ],
   "source": [
    "# we can give an index number or name for our index column, or leave it blank\n",
    "df = pd.read_csv('../data/prepped_diabetes_data.csv', index_col='Patient number')\n",
    "df"
   ]
  },
  {
   "cell_type": "markdown",
   "id": "baa5f0a5-0d3b-4e22-bb9d-a0664163695e",
   "metadata": {},
   "source": [
    "### Live Lecture Additions\n",
    "\n",
    "<div class=\"alert alert-block alert-info\">\n",
    "<b>Lecture Additions:</b> <br>\n",
    "Rather than displaying the entire dataframe, I prefer to look at a smapling of the rows in the dataframe.\n",
    "\n",
    "Alternatives Python Commands for Viewing Your Dataframe: \n",
    " - head() - returns the first five observations within the dataframe. You can specify a specific number of rows within the the parentheses\n",
    " - tail() - returns the last five observations within the dataframe. You can specify a specific number of rows within the the parentheses\n",
    " - sample() - returns a randomly selected observations within the dataframe. You can specify a specific number of rows within the the parentheses\n",
    "</div>"
   ]
  },
  {
   "cell_type": "code",
   "execution_count": 4,
   "id": "445cd05d-5a44-40fa-8570-f611d9f2367d",
   "metadata": {},
   "outputs": [
    {
     "data": {
      "text/html": [
       "<div>\n",
       "<style scoped>\n",
       "    .dataframe tbody tr th:only-of-type {\n",
       "        vertical-align: middle;\n",
       "    }\n",
       "\n",
       "    .dataframe tbody tr th {\n",
       "        vertical-align: top;\n",
       "    }\n",
       "\n",
       "    .dataframe thead th {\n",
       "        text-align: right;\n",
       "    }\n",
       "</style>\n",
       "<table border=\"1\" class=\"dataframe\">\n",
       "  <thead>\n",
       "    <tr style=\"text-align: right;\">\n",
       "      <th></th>\n",
       "      <th>Cholesterol</th>\n",
       "      <th>Glucose</th>\n",
       "      <th>HDL Chol</th>\n",
       "      <th>Age</th>\n",
       "      <th>Gender</th>\n",
       "      <th>Height</th>\n",
       "      <th>Weight</th>\n",
       "      <th>BMI</th>\n",
       "      <th>Systolic BP</th>\n",
       "      <th>Diastolic BP</th>\n",
       "      <th>waist</th>\n",
       "      <th>hip</th>\n",
       "      <th>Diabetes</th>\n",
       "      <th>waist_hip_ratio</th>\n",
       "      <th>hdl_chol_ratio</th>\n",
       "    </tr>\n",
       "    <tr>\n",
       "      <th>Patient number</th>\n",
       "      <th></th>\n",
       "      <th></th>\n",
       "      <th></th>\n",
       "      <th></th>\n",
       "      <th></th>\n",
       "      <th></th>\n",
       "      <th></th>\n",
       "      <th></th>\n",
       "      <th></th>\n",
       "      <th></th>\n",
       "      <th></th>\n",
       "      <th></th>\n",
       "      <th></th>\n",
       "      <th></th>\n",
       "      <th></th>\n",
       "    </tr>\n",
       "  </thead>\n",
       "  <tbody>\n",
       "    <tr>\n",
       "      <th>1</th>\n",
       "      <td>193</td>\n",
       "      <td>77</td>\n",
       "      <td>49</td>\n",
       "      <td>19</td>\n",
       "      <td>1</td>\n",
       "      <td>61</td>\n",
       "      <td>119</td>\n",
       "      <td>22.5</td>\n",
       "      <td>118</td>\n",
       "      <td>70</td>\n",
       "      <td>32</td>\n",
       "      <td>38</td>\n",
       "      <td>0</td>\n",
       "      <td>0.842105</td>\n",
       "      <td>0.253886</td>\n",
       "    </tr>\n",
       "    <tr>\n",
       "      <th>2</th>\n",
       "      <td>146</td>\n",
       "      <td>79</td>\n",
       "      <td>41</td>\n",
       "      <td>19</td>\n",
       "      <td>1</td>\n",
       "      <td>60</td>\n",
       "      <td>135</td>\n",
       "      <td>26.4</td>\n",
       "      <td>108</td>\n",
       "      <td>58</td>\n",
       "      <td>33</td>\n",
       "      <td>40</td>\n",
       "      <td>0</td>\n",
       "      <td>0.825000</td>\n",
       "      <td>0.280822</td>\n",
       "    </tr>\n",
       "    <tr>\n",
       "      <th>3</th>\n",
       "      <td>217</td>\n",
       "      <td>75</td>\n",
       "      <td>54</td>\n",
       "      <td>20</td>\n",
       "      <td>1</td>\n",
       "      <td>67</td>\n",
       "      <td>187</td>\n",
       "      <td>29.3</td>\n",
       "      <td>110</td>\n",
       "      <td>72</td>\n",
       "      <td>40</td>\n",
       "      <td>45</td>\n",
       "      <td>0</td>\n",
       "      <td>0.888889</td>\n",
       "      <td>0.248848</td>\n",
       "    </tr>\n",
       "    <tr>\n",
       "      <th>4</th>\n",
       "      <td>226</td>\n",
       "      <td>97</td>\n",
       "      <td>70</td>\n",
       "      <td>20</td>\n",
       "      <td>1</td>\n",
       "      <td>64</td>\n",
       "      <td>114</td>\n",
       "      <td>19.6</td>\n",
       "      <td>122</td>\n",
       "      <td>64</td>\n",
       "      <td>31</td>\n",
       "      <td>39</td>\n",
       "      <td>0</td>\n",
       "      <td>0.794872</td>\n",
       "      <td>0.309735</td>\n",
       "    </tr>\n",
       "    <tr>\n",
       "      <th>5</th>\n",
       "      <td>164</td>\n",
       "      <td>91</td>\n",
       "      <td>67</td>\n",
       "      <td>20</td>\n",
       "      <td>1</td>\n",
       "      <td>70</td>\n",
       "      <td>141</td>\n",
       "      <td>20.2</td>\n",
       "      <td>122</td>\n",
       "      <td>86</td>\n",
       "      <td>32</td>\n",
       "      <td>39</td>\n",
       "      <td>0</td>\n",
       "      <td>0.820513</td>\n",
       "      <td>0.408537</td>\n",
       "    </tr>\n",
       "    <tr>\n",
       "      <th>6</th>\n",
       "      <td>170</td>\n",
       "      <td>69</td>\n",
       "      <td>64</td>\n",
       "      <td>20</td>\n",
       "      <td>1</td>\n",
       "      <td>64</td>\n",
       "      <td>161</td>\n",
       "      <td>27.6</td>\n",
       "      <td>108</td>\n",
       "      <td>70</td>\n",
       "      <td>37</td>\n",
       "      <td>40</td>\n",
       "      <td>0</td>\n",
       "      <td>0.925000</td>\n",
       "      <td>0.376471</td>\n",
       "    </tr>\n",
       "    <tr>\n",
       "      <th>7</th>\n",
       "      <td>149</td>\n",
       "      <td>77</td>\n",
       "      <td>49</td>\n",
       "      <td>20</td>\n",
       "      <td>1</td>\n",
       "      <td>62</td>\n",
       "      <td>115</td>\n",
       "      <td>21.0</td>\n",
       "      <td>105</td>\n",
       "      <td>82</td>\n",
       "      <td>31</td>\n",
       "      <td>37</td>\n",
       "      <td>0</td>\n",
       "      <td>0.837838</td>\n",
       "      <td>0.328859</td>\n",
       "    </tr>\n",
       "    <tr>\n",
       "      <th>8</th>\n",
       "      <td>164</td>\n",
       "      <td>71</td>\n",
       "      <td>63</td>\n",
       "      <td>20</td>\n",
       "      <td>0</td>\n",
       "      <td>72</td>\n",
       "      <td>145</td>\n",
       "      <td>19.7</td>\n",
       "      <td>108</td>\n",
       "      <td>78</td>\n",
       "      <td>29</td>\n",
       "      <td>36</td>\n",
       "      <td>0</td>\n",
       "      <td>0.805556</td>\n",
       "      <td>0.384146</td>\n",
       "    </tr>\n",
       "    <tr>\n",
       "      <th>9</th>\n",
       "      <td>230</td>\n",
       "      <td>112</td>\n",
       "      <td>64</td>\n",
       "      <td>20</td>\n",
       "      <td>0</td>\n",
       "      <td>67</td>\n",
       "      <td>159</td>\n",
       "      <td>24.9</td>\n",
       "      <td>100</td>\n",
       "      <td>90</td>\n",
       "      <td>31</td>\n",
       "      <td>39</td>\n",
       "      <td>0</td>\n",
       "      <td>0.794872</td>\n",
       "      <td>0.278261</td>\n",
       "    </tr>\n",
       "    <tr>\n",
       "      <th>10</th>\n",
       "      <td>179</td>\n",
       "      <td>105</td>\n",
       "      <td>60</td>\n",
       "      <td>20</td>\n",
       "      <td>1</td>\n",
       "      <td>58</td>\n",
       "      <td>170</td>\n",
       "      <td>35.5</td>\n",
       "      <td>140</td>\n",
       "      <td>100</td>\n",
       "      <td>34</td>\n",
       "      <td>46</td>\n",
       "      <td>0</td>\n",
       "      <td>0.739130</td>\n",
       "      <td>0.335196</td>\n",
       "    </tr>\n",
       "  </tbody>\n",
       "</table>\n",
       "</div>"
      ],
      "text/plain": [
       "                Cholesterol  Glucose  HDL Chol  Age  Gender  Height  Weight  \\\n",
       "Patient number                                                                \n",
       "1                       193       77        49   19       1      61     119   \n",
       "2                       146       79        41   19       1      60     135   \n",
       "3                       217       75        54   20       1      67     187   \n",
       "4                       226       97        70   20       1      64     114   \n",
       "5                       164       91        67   20       1      70     141   \n",
       "6                       170       69        64   20       1      64     161   \n",
       "7                       149       77        49   20       1      62     115   \n",
       "8                       164       71        63   20       0      72     145   \n",
       "9                       230      112        64   20       0      67     159   \n",
       "10                      179      105        60   20       1      58     170   \n",
       "\n",
       "                 BMI  Systolic BP  Diastolic BP  waist  hip  Diabetes  \\\n",
       "Patient number                                                          \n",
       "1               22.5          118            70     32   38         0   \n",
       "2               26.4          108            58     33   40         0   \n",
       "3               29.3          110            72     40   45         0   \n",
       "4               19.6          122            64     31   39         0   \n",
       "5               20.2          122            86     32   39         0   \n",
       "6               27.6          108            70     37   40         0   \n",
       "7               21.0          105            82     31   37         0   \n",
       "8               19.7          108            78     29   36         0   \n",
       "9               24.9          100            90     31   39         0   \n",
       "10              35.5          140           100     34   46         0   \n",
       "\n",
       "                waist_hip_ratio  hdl_chol_ratio  \n",
       "Patient number                                   \n",
       "1                      0.842105        0.253886  \n",
       "2                      0.825000        0.280822  \n",
       "3                      0.888889        0.248848  \n",
       "4                      0.794872        0.309735  \n",
       "5                      0.820513        0.408537  \n",
       "6                      0.925000        0.376471  \n",
       "7                      0.837838        0.328859  \n",
       "8                      0.805556        0.384146  \n",
       "9                      0.794872        0.278261  \n",
       "10                     0.739130        0.335196  "
      ]
     },
     "execution_count": 4,
     "metadata": {},
     "output_type": "execute_result"
    }
   ],
   "source": [
    "df.head(10)"
   ]
  },
  {
   "cell_type": "code",
   "execution_count": 5,
   "id": "9501cac9-415a-43be-aac8-89a132091ab4",
   "metadata": {},
   "outputs": [
    {
     "data": {
      "text/html": [
       "<div>\n",
       "<style scoped>\n",
       "    .dataframe tbody tr th:only-of-type {\n",
       "        vertical-align: middle;\n",
       "    }\n",
       "\n",
       "    .dataframe tbody tr th {\n",
       "        vertical-align: top;\n",
       "    }\n",
       "\n",
       "    .dataframe thead th {\n",
       "        text-align: right;\n",
       "    }\n",
       "</style>\n",
       "<table border=\"1\" class=\"dataframe\">\n",
       "  <thead>\n",
       "    <tr style=\"text-align: right;\">\n",
       "      <th></th>\n",
       "      <th>Cholesterol</th>\n",
       "      <th>Glucose</th>\n",
       "      <th>HDL Chol</th>\n",
       "      <th>Age</th>\n",
       "      <th>Gender</th>\n",
       "      <th>Height</th>\n",
       "      <th>Weight</th>\n",
       "      <th>BMI</th>\n",
       "      <th>Systolic BP</th>\n",
       "      <th>Diastolic BP</th>\n",
       "      <th>waist</th>\n",
       "      <th>hip</th>\n",
       "      <th>Diabetes</th>\n",
       "      <th>waist_hip_ratio</th>\n",
       "      <th>hdl_chol_ratio</th>\n",
       "    </tr>\n",
       "    <tr>\n",
       "      <th>Patient number</th>\n",
       "      <th></th>\n",
       "      <th></th>\n",
       "      <th></th>\n",
       "      <th></th>\n",
       "      <th></th>\n",
       "      <th></th>\n",
       "      <th></th>\n",
       "      <th></th>\n",
       "      <th></th>\n",
       "      <th></th>\n",
       "      <th></th>\n",
       "      <th></th>\n",
       "      <th></th>\n",
       "      <th></th>\n",
       "      <th></th>\n",
       "    </tr>\n",
       "  </thead>\n",
       "  <tbody>\n",
       "    <tr>\n",
       "      <th>386</th>\n",
       "      <td>227</td>\n",
       "      <td>105</td>\n",
       "      <td>44</td>\n",
       "      <td>83</td>\n",
       "      <td>1</td>\n",
       "      <td>59</td>\n",
       "      <td>125</td>\n",
       "      <td>25.2</td>\n",
       "      <td>150</td>\n",
       "      <td>90</td>\n",
       "      <td>35</td>\n",
       "      <td>40</td>\n",
       "      <td>0</td>\n",
       "      <td>0.875000</td>\n",
       "      <td>0.193833</td>\n",
       "    </tr>\n",
       "    <tr>\n",
       "      <th>387</th>\n",
       "      <td>226</td>\n",
       "      <td>279</td>\n",
       "      <td>52</td>\n",
       "      <td>84</td>\n",
       "      <td>1</td>\n",
       "      <td>60</td>\n",
       "      <td>192</td>\n",
       "      <td>37.5</td>\n",
       "      <td>144</td>\n",
       "      <td>88</td>\n",
       "      <td>41</td>\n",
       "      <td>48</td>\n",
       "      <td>1</td>\n",
       "      <td>0.854167</td>\n",
       "      <td>0.230088</td>\n",
       "    </tr>\n",
       "    <tr>\n",
       "      <th>388</th>\n",
       "      <td>301</td>\n",
       "      <td>90</td>\n",
       "      <td>118</td>\n",
       "      <td>89</td>\n",
       "      <td>1</td>\n",
       "      <td>61</td>\n",
       "      <td>115</td>\n",
       "      <td>21.7</td>\n",
       "      <td>218</td>\n",
       "      <td>90</td>\n",
       "      <td>31</td>\n",
       "      <td>41</td>\n",
       "      <td>0</td>\n",
       "      <td>0.756098</td>\n",
       "      <td>0.392027</td>\n",
       "    </tr>\n",
       "    <tr>\n",
       "      <th>389</th>\n",
       "      <td>232</td>\n",
       "      <td>184</td>\n",
       "      <td>114</td>\n",
       "      <td>91</td>\n",
       "      <td>1</td>\n",
       "      <td>61</td>\n",
       "      <td>127</td>\n",
       "      <td>24.0</td>\n",
       "      <td>170</td>\n",
       "      <td>82</td>\n",
       "      <td>35</td>\n",
       "      <td>38</td>\n",
       "      <td>1</td>\n",
       "      <td>0.921053</td>\n",
       "      <td>0.491379</td>\n",
       "    </tr>\n",
       "    <tr>\n",
       "      <th>390</th>\n",
       "      <td>165</td>\n",
       "      <td>94</td>\n",
       "      <td>69</td>\n",
       "      <td>92</td>\n",
       "      <td>1</td>\n",
       "      <td>62</td>\n",
       "      <td>217</td>\n",
       "      <td>39.7</td>\n",
       "      <td>160</td>\n",
       "      <td>82</td>\n",
       "      <td>51</td>\n",
       "      <td>51</td>\n",
       "      <td>0</td>\n",
       "      <td>1.000000</td>\n",
       "      <td>0.418182</td>\n",
       "    </tr>\n",
       "  </tbody>\n",
       "</table>\n",
       "</div>"
      ],
      "text/plain": [
       "                Cholesterol  Glucose  HDL Chol  Age  Gender  Height  Weight  \\\n",
       "Patient number                                                                \n",
       "386                     227      105        44   83       1      59     125   \n",
       "387                     226      279        52   84       1      60     192   \n",
       "388                     301       90       118   89       1      61     115   \n",
       "389                     232      184       114   91       1      61     127   \n",
       "390                     165       94        69   92       1      62     217   \n",
       "\n",
       "                 BMI  Systolic BP  Diastolic BP  waist  hip  Diabetes  \\\n",
       "Patient number                                                          \n",
       "386             25.2          150            90     35   40         0   \n",
       "387             37.5          144            88     41   48         1   \n",
       "388             21.7          218            90     31   41         0   \n",
       "389             24.0          170            82     35   38         1   \n",
       "390             39.7          160            82     51   51         0   \n",
       "\n",
       "                waist_hip_ratio  hdl_chol_ratio  \n",
       "Patient number                                   \n",
       "386                    0.875000        0.193833  \n",
       "387                    0.854167        0.230088  \n",
       "388                    0.756098        0.392027  \n",
       "389                    0.921053        0.491379  \n",
       "390                    1.000000        0.418182  "
      ]
     },
     "execution_count": 5,
     "metadata": {},
     "output_type": "execute_result"
    }
   ],
   "source": [
    "df.tail()"
   ]
  },
  {
   "cell_type": "code",
   "execution_count": 6,
   "id": "0f54ee22-0e01-43b8-a9b1-a002ecb4f07b",
   "metadata": {},
   "outputs": [
    {
     "data": {
      "text/html": [
       "<div>\n",
       "<style scoped>\n",
       "    .dataframe tbody tr th:only-of-type {\n",
       "        vertical-align: middle;\n",
       "    }\n",
       "\n",
       "    .dataframe tbody tr th {\n",
       "        vertical-align: top;\n",
       "    }\n",
       "\n",
       "    .dataframe thead th {\n",
       "        text-align: right;\n",
       "    }\n",
       "</style>\n",
       "<table border=\"1\" class=\"dataframe\">\n",
       "  <thead>\n",
       "    <tr style=\"text-align: right;\">\n",
       "      <th></th>\n",
       "      <th>Cholesterol</th>\n",
       "      <th>Glucose</th>\n",
       "      <th>HDL Chol</th>\n",
       "      <th>Age</th>\n",
       "      <th>Gender</th>\n",
       "      <th>Height</th>\n",
       "      <th>Weight</th>\n",
       "      <th>BMI</th>\n",
       "      <th>Systolic BP</th>\n",
       "      <th>Diastolic BP</th>\n",
       "      <th>waist</th>\n",
       "      <th>hip</th>\n",
       "      <th>Diabetes</th>\n",
       "      <th>waist_hip_ratio</th>\n",
       "      <th>hdl_chol_ratio</th>\n",
       "    </tr>\n",
       "    <tr>\n",
       "      <th>Patient number</th>\n",
       "      <th></th>\n",
       "      <th></th>\n",
       "      <th></th>\n",
       "      <th></th>\n",
       "      <th></th>\n",
       "      <th></th>\n",
       "      <th></th>\n",
       "      <th></th>\n",
       "      <th></th>\n",
       "      <th></th>\n",
       "      <th></th>\n",
       "      <th></th>\n",
       "      <th></th>\n",
       "      <th></th>\n",
       "      <th></th>\n",
       "    </tr>\n",
       "  </thead>\n",
       "  <tbody>\n",
       "    <tr>\n",
       "      <th>193</th>\n",
       "      <td>260</td>\n",
       "      <td>67</td>\n",
       "      <td>46</td>\n",
       "      <td>44</td>\n",
       "      <td>1</td>\n",
       "      <td>62</td>\n",
       "      <td>159</td>\n",
       "      <td>29.1</td>\n",
       "      <td>140</td>\n",
       "      <td>94</td>\n",
       "      <td>36</td>\n",
       "      <td>43</td>\n",
       "      <td>0</td>\n",
       "      <td>0.837209</td>\n",
       "      <td>0.176923</td>\n",
       "    </tr>\n",
       "    <tr>\n",
       "      <th>207</th>\n",
       "      <td>242</td>\n",
       "      <td>108</td>\n",
       "      <td>53</td>\n",
       "      <td>46</td>\n",
       "      <td>1</td>\n",
       "      <td>62</td>\n",
       "      <td>183</td>\n",
       "      <td>33.5</td>\n",
       "      <td>130</td>\n",
       "      <td>86</td>\n",
       "      <td>37</td>\n",
       "      <td>45</td>\n",
       "      <td>0</td>\n",
       "      <td>0.822222</td>\n",
       "      <td>0.219008</td>\n",
       "    </tr>\n",
       "    <tr>\n",
       "      <th>155</th>\n",
       "      <td>191</td>\n",
       "      <td>74</td>\n",
       "      <td>33</td>\n",
       "      <td>40</td>\n",
       "      <td>0</td>\n",
       "      <td>72</td>\n",
       "      <td>270</td>\n",
       "      <td>36.6</td>\n",
       "      <td>136</td>\n",
       "      <td>70</td>\n",
       "      <td>45</td>\n",
       "      <td>49</td>\n",
       "      <td>0</td>\n",
       "      <td>0.918367</td>\n",
       "      <td>0.172775</td>\n",
       "    </tr>\n",
       "    <tr>\n",
       "      <th>101</th>\n",
       "      <td>194</td>\n",
       "      <td>86</td>\n",
       "      <td>67</td>\n",
       "      <td>35</td>\n",
       "      <td>0</td>\n",
       "      <td>66</td>\n",
       "      <td>159</td>\n",
       "      <td>25.7</td>\n",
       "      <td>115</td>\n",
       "      <td>64</td>\n",
       "      <td>31</td>\n",
       "      <td>35</td>\n",
       "      <td>0</td>\n",
       "      <td>0.885714</td>\n",
       "      <td>0.345361</td>\n",
       "    </tr>\n",
       "    <tr>\n",
       "      <th>349</th>\n",
       "      <td>236</td>\n",
       "      <td>111</td>\n",
       "      <td>82</td>\n",
       "      <td>68</td>\n",
       "      <td>1</td>\n",
       "      <td>61</td>\n",
       "      <td>119</td>\n",
       "      <td>22.5</td>\n",
       "      <td>142</td>\n",
       "      <td>96</td>\n",
       "      <td>29</td>\n",
       "      <td>37</td>\n",
       "      <td>0</td>\n",
       "      <td>0.783784</td>\n",
       "      <td>0.347458</td>\n",
       "    </tr>\n",
       "  </tbody>\n",
       "</table>\n",
       "</div>"
      ],
      "text/plain": [
       "                Cholesterol  Glucose  HDL Chol  Age  Gender  Height  Weight  \\\n",
       "Patient number                                                                \n",
       "193                     260       67        46   44       1      62     159   \n",
       "207                     242      108        53   46       1      62     183   \n",
       "155                     191       74        33   40       0      72     270   \n",
       "101                     194       86        67   35       0      66     159   \n",
       "349                     236      111        82   68       1      61     119   \n",
       "\n",
       "                 BMI  Systolic BP  Diastolic BP  waist  hip  Diabetes  \\\n",
       "Patient number                                                          \n",
       "193             29.1          140            94     36   43         0   \n",
       "207             33.5          130            86     37   45         0   \n",
       "155             36.6          136            70     45   49         0   \n",
       "101             25.7          115            64     31   35         0   \n",
       "349             22.5          142            96     29   37         0   \n",
       "\n",
       "                waist_hip_ratio  hdl_chol_ratio  \n",
       "Patient number                                   \n",
       "193                    0.837209        0.176923  \n",
       "207                    0.822222        0.219008  \n",
       "155                    0.918367        0.172775  \n",
       "101                    0.885714        0.345361  \n",
       "349                    0.783784        0.347458  "
      ]
     },
     "execution_count": 6,
     "metadata": {},
     "output_type": "execute_result"
    }
   ],
   "source": [
    "df.sample(5)"
   ]
  },
  {
   "cell_type": "markdown",
   "id": "offensive-snake",
   "metadata": {},
   "source": [
    "We can check to make sure our loaded data is still in the proper format with no missing values:"
   ]
  },
  {
   "cell_type": "code",
   "execution_count": 7,
   "id": "active-quick",
   "metadata": {},
   "outputs": [
    {
     "name": "stdout",
     "output_type": "stream",
     "text": [
      "<class 'pandas.core.frame.DataFrame'>\n",
      "Int64Index: 390 entries, 1 to 390\n",
      "Data columns (total 15 columns):\n",
      " #   Column           Non-Null Count  Dtype  \n",
      "---  ------           --------------  -----  \n",
      " 0   Cholesterol      390 non-null    int64  \n",
      " 1   Glucose          390 non-null    int64  \n",
      " 2   HDL Chol         390 non-null    int64  \n",
      " 3   Age              390 non-null    int64  \n",
      " 4   Gender           390 non-null    int64  \n",
      " 5   Height           390 non-null    int64  \n",
      " 6   Weight           390 non-null    int64  \n",
      " 7   BMI              390 non-null    float64\n",
      " 8   Systolic BP      390 non-null    int64  \n",
      " 9   Diastolic BP     390 non-null    int64  \n",
      " 10  waist            390 non-null    int64  \n",
      " 11  hip              390 non-null    int64  \n",
      " 12  Diabetes         390 non-null    int64  \n",
      " 13  waist_hip_ratio  390 non-null    float64\n",
      " 14  hdl_chol_ratio   390 non-null    float64\n",
      "dtypes: float64(3), int64(12)\n",
      "memory usage: 48.8 KB\n"
     ]
    }
   ],
   "source": [
    "df.info()"
   ]
  },
  {
   "cell_type": "markdown",
   "id": "twelve-google",
   "metadata": {},
   "source": [
    "# 4. Modeling"
   ]
  },
  {
   "cell_type": "markdown",
   "id": "magnetic-practice",
   "metadata": {},
   "source": [
    "We can now do some modeling and analysis of the data. We will use a simple binary classifier, which predicts a probability of a 1 as the outcome for each datapoint. The model we'll start with is logistic regression.\n",
    "\n",
    "With our problem, we are doing classification, where we predict the class - a 0 (no diabetes) or 1 (diabetes). Classification is a type of supervised learning. For this, we have features (inputs) and targets (outputs), and we train a model (fit the model) with data. We call this data our \"training data\". From the training data, our algorithm learn patterns in the data and we can make predictions about the data.\n",
    "\n",
    "First, let's break up our data into features and targets:"
   ]
  },
  {
   "cell_type": "code",
   "execution_count": 8,
   "id": "dated-booth",
   "metadata": {},
   "outputs": [],
   "source": [
    "features = df.drop('Diabetes', axis=1)\n",
    "targets = df['Diabetes']"
   ]
  },
  {
   "cell_type": "code",
   "execution_count": 9,
   "id": "6f1874ce-33e7-4f35-b553-073ab69738e5",
   "metadata": {},
   "outputs": [
    {
     "data": {
      "text/html": [
       "<div>\n",
       "<style scoped>\n",
       "    .dataframe tbody tr th:only-of-type {\n",
       "        vertical-align: middle;\n",
       "    }\n",
       "\n",
       "    .dataframe tbody tr th {\n",
       "        vertical-align: top;\n",
       "    }\n",
       "\n",
       "    .dataframe thead th {\n",
       "        text-align: right;\n",
       "    }\n",
       "</style>\n",
       "<table border=\"1\" class=\"dataframe\">\n",
       "  <thead>\n",
       "    <tr style=\"text-align: right;\">\n",
       "      <th></th>\n",
       "      <th>Cholesterol</th>\n",
       "      <th>Glucose</th>\n",
       "      <th>HDL Chol</th>\n",
       "      <th>Age</th>\n",
       "      <th>Gender</th>\n",
       "      <th>Height</th>\n",
       "      <th>Weight</th>\n",
       "      <th>BMI</th>\n",
       "      <th>Systolic BP</th>\n",
       "      <th>Diastolic BP</th>\n",
       "      <th>waist</th>\n",
       "      <th>hip</th>\n",
       "      <th>waist_hip_ratio</th>\n",
       "      <th>hdl_chol_ratio</th>\n",
       "    </tr>\n",
       "    <tr>\n",
       "      <th>Patient number</th>\n",
       "      <th></th>\n",
       "      <th></th>\n",
       "      <th></th>\n",
       "      <th></th>\n",
       "      <th></th>\n",
       "      <th></th>\n",
       "      <th></th>\n",
       "      <th></th>\n",
       "      <th></th>\n",
       "      <th></th>\n",
       "      <th></th>\n",
       "      <th></th>\n",
       "      <th></th>\n",
       "      <th></th>\n",
       "    </tr>\n",
       "  </thead>\n",
       "  <tbody>\n",
       "    <tr>\n",
       "      <th>1</th>\n",
       "      <td>193</td>\n",
       "      <td>77</td>\n",
       "      <td>49</td>\n",
       "      <td>19</td>\n",
       "      <td>1</td>\n",
       "      <td>61</td>\n",
       "      <td>119</td>\n",
       "      <td>22.5</td>\n",
       "      <td>118</td>\n",
       "      <td>70</td>\n",
       "      <td>32</td>\n",
       "      <td>38</td>\n",
       "      <td>0.842105</td>\n",
       "      <td>0.253886</td>\n",
       "    </tr>\n",
       "    <tr>\n",
       "      <th>2</th>\n",
       "      <td>146</td>\n",
       "      <td>79</td>\n",
       "      <td>41</td>\n",
       "      <td>19</td>\n",
       "      <td>1</td>\n",
       "      <td>60</td>\n",
       "      <td>135</td>\n",
       "      <td>26.4</td>\n",
       "      <td>108</td>\n",
       "      <td>58</td>\n",
       "      <td>33</td>\n",
       "      <td>40</td>\n",
       "      <td>0.825000</td>\n",
       "      <td>0.280822</td>\n",
       "    </tr>\n",
       "    <tr>\n",
       "      <th>3</th>\n",
       "      <td>217</td>\n",
       "      <td>75</td>\n",
       "      <td>54</td>\n",
       "      <td>20</td>\n",
       "      <td>1</td>\n",
       "      <td>67</td>\n",
       "      <td>187</td>\n",
       "      <td>29.3</td>\n",
       "      <td>110</td>\n",
       "      <td>72</td>\n",
       "      <td>40</td>\n",
       "      <td>45</td>\n",
       "      <td>0.888889</td>\n",
       "      <td>0.248848</td>\n",
       "    </tr>\n",
       "    <tr>\n",
       "      <th>4</th>\n",
       "      <td>226</td>\n",
       "      <td>97</td>\n",
       "      <td>70</td>\n",
       "      <td>20</td>\n",
       "      <td>1</td>\n",
       "      <td>64</td>\n",
       "      <td>114</td>\n",
       "      <td>19.6</td>\n",
       "      <td>122</td>\n",
       "      <td>64</td>\n",
       "      <td>31</td>\n",
       "      <td>39</td>\n",
       "      <td>0.794872</td>\n",
       "      <td>0.309735</td>\n",
       "    </tr>\n",
       "    <tr>\n",
       "      <th>5</th>\n",
       "      <td>164</td>\n",
       "      <td>91</td>\n",
       "      <td>67</td>\n",
       "      <td>20</td>\n",
       "      <td>1</td>\n",
       "      <td>70</td>\n",
       "      <td>141</td>\n",
       "      <td>20.2</td>\n",
       "      <td>122</td>\n",
       "      <td>86</td>\n",
       "      <td>32</td>\n",
       "      <td>39</td>\n",
       "      <td>0.820513</td>\n",
       "      <td>0.408537</td>\n",
       "    </tr>\n",
       "  </tbody>\n",
       "</table>\n",
       "</div>"
      ],
      "text/plain": [
       "                Cholesterol  Glucose  HDL Chol  Age  Gender  Height  Weight  \\\n",
       "Patient number                                                                \n",
       "1                       193       77        49   19       1      61     119   \n",
       "2                       146       79        41   19       1      60     135   \n",
       "3                       217       75        54   20       1      67     187   \n",
       "4                       226       97        70   20       1      64     114   \n",
       "5                       164       91        67   20       1      70     141   \n",
       "\n",
       "                 BMI  Systolic BP  Diastolic BP  waist  hip  waist_hip_ratio  \\\n",
       "Patient number                                                                 \n",
       "1               22.5          118            70     32   38         0.842105   \n",
       "2               26.4          108            58     33   40         0.825000   \n",
       "3               29.3          110            72     40   45         0.888889   \n",
       "4               19.6          122            64     31   39         0.794872   \n",
       "5               20.2          122            86     32   39         0.820513   \n",
       "\n",
       "                hdl_chol_ratio  \n",
       "Patient number                  \n",
       "1                     0.253886  \n",
       "2                     0.280822  \n",
       "3                     0.248848  \n",
       "4                     0.309735  \n",
       "5                     0.408537  "
      ]
     },
     "execution_count": 9,
     "metadata": {},
     "output_type": "execute_result"
    }
   ],
   "source": [
    "features.head()"
   ]
  },
  {
   "cell_type": "code",
   "execution_count": 10,
   "id": "7df3e830-455b-48db-98b3-6ba75d1bbafb",
   "metadata": {},
   "outputs": [
    {
     "data": {
      "text/plain": [
       "Patient number\n",
       "1    0\n",
       "2    0\n",
       "3    0\n",
       "4    0\n",
       "5    0\n",
       "Name: Diabetes, dtype: int64"
      ]
     },
     "execution_count": 10,
     "metadata": {},
     "output_type": "execute_result"
    }
   ],
   "source": [
    "targets.head()"
   ]
  },
  {
   "cell_type": "markdown",
   "id": "ruled-wings",
   "metadata": {},
   "source": [
    "Next, we split our data into train and test sets. We will use the training data to fit our model, and evaluate performance on both the train and test sets. It's important to evaluate the model on unseen data (our test data), because we can overfit to our training data. Overfitting happens when our model is too complex and fits to noise in the data. This results in a high score on the training data but poor performance on the test data. Underfitting happens when our model is not complex enough, and results in poor performance on both the training and testing data. We can also use cross-validation to break up our data into several versions of train and test sets, but simply using a train and test set is the foundation for this. The sklearn library makes it easy to do this:"
   ]
  },
  {
   "cell_type": "code",
   "execution_count": 11,
   "id": "growing-connectivity",
   "metadata": {},
   "outputs": [],
   "source": [
    "x_train, x_test, y_train, y_test = train_test_split(features, targets, random_state=42)"
   ]
  },
  {
   "cell_type": "markdown",
   "id": "dc2e3c9d",
   "metadata": {},
   "source": [
    "We can also change the size of train and test sets with either the `train_size` or `test_size`. The default test size is 0.25 or 25%."
   ]
  },
  {
   "cell_type": "code",
   "execution_count": 12,
   "id": "531dde23-b8b8-425b-8a1f-f84e33b7955a",
   "metadata": {
    "tags": []
   },
   "outputs": [
    {
     "data": {
      "text/plain": [
       "(292, 14)"
      ]
     },
     "execution_count": 12,
     "metadata": {},
     "output_type": "execute_result"
    }
   ],
   "source": [
    "x_train.shape"
   ]
  },
  {
   "cell_type": "code",
   "execution_count": 13,
   "id": "c5cc96ef-a9a5-4f30-b419-d8ce1efe80bb",
   "metadata": {
    "tags": []
   },
   "outputs": [
    {
     "data": {
      "text/plain": [
       "(98, 14)"
      ]
     },
     "execution_count": 13,
     "metadata": {},
     "output_type": "execute_result"
    }
   ],
   "source": [
    "x_test.shape"
   ]
  },
  {
   "cell_type": "code",
   "execution_count": 17,
   "id": "c2739af4-2e93-42f4-9baf-a690bd25426a",
   "metadata": {
    "tags": []
   },
   "outputs": [
    {
     "data": {
      "text/plain": [
       "(292,)"
      ]
     },
     "execution_count": 17,
     "metadata": {},
     "output_type": "execute_result"
    }
   ],
   "source": [
    "y_train.shape"
   ]
  },
  {
   "cell_type": "markdown",
   "id": "de7b94fc-ebf0-4e62-988d-5fb9be63a105",
   "metadata": {},
   "source": [
    "### Live Lecture Additions\n",
    "\n",
    "<div class=\"alert alert-block alert-info\">\n",
    "<b>Lecture Additions:</b> <br>\n",
    "Heres what the addition of the test_size parameter would look like. \n",
    "<br>\n",
    "To verify the size of our training and test datasets, we can use len(). A 80/20 split of 390 observations (number of observations in the dataframe - from the info() command above) would result in 312/78 rows (aka observations). \n",
    "</div>"
   ]
  },
  {
   "cell_type": "code",
   "execution_count": 14,
   "id": "51a6c6fa-aa0e-4d81-acfd-ec50866b8c75",
   "metadata": {},
   "outputs": [],
   "source": [
    "x_train, x_test, y_train, y_test = train_test_split(features, targets, stratify=targets, random_state=42, test_size=.25)"
   ]
  },
  {
   "cell_type": "code",
   "execution_count": 15,
   "id": "5646c39f-763e-4492-bffc-869416b68497",
   "metadata": {},
   "outputs": [
    {
     "data": {
      "text/plain": [
       "292"
      ]
     },
     "execution_count": 15,
     "metadata": {},
     "output_type": "execute_result"
    }
   ],
   "source": [
    "len(x_train)"
   ]
  },
  {
   "cell_type": "code",
   "execution_count": 16,
   "id": "75eddd8e-108d-4530-b76f-359c01c584ff",
   "metadata": {},
   "outputs": [
    {
     "data": {
      "text/plain": [
       "98"
      ]
     },
     "execution_count": 16,
     "metadata": {},
     "output_type": "execute_result"
    }
   ],
   "source": [
    "len(x_test)"
   ]
  },
  {
   "cell_type": "markdown",
   "id": "touched-subsection",
   "metadata": {},
   "source": [
    "We can now fit our model to the training data. All sklearn models share a similar pattern: we create the model, then fit it to data. Once it's been fit, we can use methods like predict and predict_proba to predict values and probabilities of values."
   ]
  },
  {
   "cell_type": "code",
   "execution_count": 17,
   "id": "widespread-preparation",
   "metadata": {},
   "outputs": [],
   "source": [
    "lr_model = LogisticRegression(max_iter=1000)\n",
    "#lr_model.fit(x_train, y_train)"
   ]
  },
  {
   "cell_type": "code",
   "execution_count": 19,
   "id": "7f435c43-562d-4b13-b0a7-aa3470170cdb",
   "metadata": {
    "tags": []
   },
   "outputs": [
    {
     "data": {
      "text/html": [
       "<style>#sk-container-id-2 {color: black;}#sk-container-id-2 pre{padding: 0;}#sk-container-id-2 div.sk-toggleable {background-color: white;}#sk-container-id-2 label.sk-toggleable__label {cursor: pointer;display: block;width: 100%;margin-bottom: 0;padding: 0.3em;box-sizing: border-box;text-align: center;}#sk-container-id-2 label.sk-toggleable__label-arrow:before {content: \"▸\";float: left;margin-right: 0.25em;color: #696969;}#sk-container-id-2 label.sk-toggleable__label-arrow:hover:before {color: black;}#sk-container-id-2 div.sk-estimator:hover label.sk-toggleable__label-arrow:before {color: black;}#sk-container-id-2 div.sk-toggleable__content {max-height: 0;max-width: 0;overflow: hidden;text-align: left;background-color: #f0f8ff;}#sk-container-id-2 div.sk-toggleable__content pre {margin: 0.2em;color: black;border-radius: 0.25em;background-color: #f0f8ff;}#sk-container-id-2 input.sk-toggleable__control:checked~div.sk-toggleable__content {max-height: 200px;max-width: 100%;overflow: auto;}#sk-container-id-2 input.sk-toggleable__control:checked~label.sk-toggleable__label-arrow:before {content: \"▾\";}#sk-container-id-2 div.sk-estimator input.sk-toggleable__control:checked~label.sk-toggleable__label {background-color: #d4ebff;}#sk-container-id-2 div.sk-label input.sk-toggleable__control:checked~label.sk-toggleable__label {background-color: #d4ebff;}#sk-container-id-2 input.sk-hidden--visually {border: 0;clip: rect(1px 1px 1px 1px);clip: rect(1px, 1px, 1px, 1px);height: 1px;margin: -1px;overflow: hidden;padding: 0;position: absolute;width: 1px;}#sk-container-id-2 div.sk-estimator {font-family: monospace;background-color: #f0f8ff;border: 1px dotted black;border-radius: 0.25em;box-sizing: border-box;margin-bottom: 0.5em;}#sk-container-id-2 div.sk-estimator:hover {background-color: #d4ebff;}#sk-container-id-2 div.sk-parallel-item::after {content: \"\";width: 100%;border-bottom: 1px solid gray;flex-grow: 1;}#sk-container-id-2 div.sk-label:hover label.sk-toggleable__label {background-color: #d4ebff;}#sk-container-id-2 div.sk-serial::before {content: \"\";position: absolute;border-left: 1px solid gray;box-sizing: border-box;top: 0;bottom: 0;left: 50%;z-index: 0;}#sk-container-id-2 div.sk-serial {display: flex;flex-direction: column;align-items: center;background-color: white;padding-right: 0.2em;padding-left: 0.2em;position: relative;}#sk-container-id-2 div.sk-item {position: relative;z-index: 1;}#sk-container-id-2 div.sk-parallel {display: flex;align-items: stretch;justify-content: center;background-color: white;position: relative;}#sk-container-id-2 div.sk-item::before, #sk-container-id-2 div.sk-parallel-item::before {content: \"\";position: absolute;border-left: 1px solid gray;box-sizing: border-box;top: 0;bottom: 0;left: 50%;z-index: -1;}#sk-container-id-2 div.sk-parallel-item {display: flex;flex-direction: column;z-index: 1;position: relative;background-color: white;}#sk-container-id-2 div.sk-parallel-item:first-child::after {align-self: flex-end;width: 50%;}#sk-container-id-2 div.sk-parallel-item:last-child::after {align-self: flex-start;width: 50%;}#sk-container-id-2 div.sk-parallel-item:only-child::after {width: 0;}#sk-container-id-2 div.sk-dashed-wrapped {border: 1px dashed gray;margin: 0 0.4em 0.5em 0.4em;box-sizing: border-box;padding-bottom: 0.4em;background-color: white;}#sk-container-id-2 div.sk-label label {font-family: monospace;font-weight: bold;display: inline-block;line-height: 1.2em;}#sk-container-id-2 div.sk-label-container {text-align: center;}#sk-container-id-2 div.sk-container {/* jupyter's `normalize.less` sets `[hidden] { display: none; }` but bootstrap.min.css set `[hidden] { display: none !important; }` so we also need the `!important` here to be able to override the default hidden behavior on the sphinx rendered scikit-learn.org. See: https://github.com/scikit-learn/scikit-learn/issues/21755 */display: inline-block !important;position: relative;}#sk-container-id-2 div.sk-text-repr-fallback {display: none;}</style><div id=\"sk-container-id-2\" class=\"sk-top-container\"><div class=\"sk-text-repr-fallback\"><pre>LogisticRegression(max_iter=1000)</pre><b>In a Jupyter environment, please rerun this cell to show the HTML representation or trust the notebook. <br />On GitHub, the HTML representation is unable to render, please try loading this page with nbviewer.org.</b></div><div class=\"sk-container\" hidden><div class=\"sk-item\"><div class=\"sk-estimator sk-toggleable\"><input class=\"sk-toggleable__control sk-hidden--visually\" id=\"sk-estimator-id-2\" type=\"checkbox\" checked><label for=\"sk-estimator-id-2\" class=\"sk-toggleable__label sk-toggleable__label-arrow\">LogisticRegression</label><div class=\"sk-toggleable__content\"><pre>LogisticRegression(max_iter=1000)</pre></div></div></div></div></div>"
      ],
      "text/plain": [
       "LogisticRegression(max_iter=1000)"
      ]
     },
     "execution_count": 19,
     "metadata": {},
     "output_type": "execute_result"
    }
   ],
   "source": [
    "lr_model.fit(x_train, y_train)"
   ]
  },
  {
   "cell_type": "markdown",
   "id": "stuck-positive",
   "metadata": {},
   "source": [
    "# 5. Evaluation"
   ]
  },
  {
   "cell_type": "markdown",
   "id": "unsigned-carpet",
   "metadata": {},
   "source": [
    "Usually we would try several models and choose the best one based on metrics. The `score` method of classifiers in sklearn has accuracy as it's default method. We simply give the `score` method our features and targets, and it computes accuracy. We can see our accuracy (0.908 or 90.8% on the test set) is better than the \"no information rate\", or simply predicting that all datapoints are the \"majority class\" (0). That  would give us 0.846, or around 85%, accuracy."
   ]
  },
  {
   "cell_type": "code",
   "execution_count": 23,
   "id": "constant-vienna",
   "metadata": {},
   "outputs": [
    {
     "data": {
      "text/plain": [
       "0    0.846154\n",
       "1    0.153846\n",
       "Name: Diabetes, dtype: float64"
      ]
     },
     "execution_count": 23,
     "metadata": {},
     "output_type": "execute_result"
    }
   ],
   "source": [
    "# our \"no information\" rate is 84.6%, or the majority class fraction\n",
    "df['Diabetes'].value_counts(normalize=True)"
   ]
  },
  {
   "cell_type": "code",
   "execution_count": 20,
   "id": "acquired-optimum",
   "metadata": {},
   "outputs": [
    {
     "name": "stdout",
     "output_type": "stream",
     "text": [
      "0.9212328767123288\n",
      "0.9081632653061225\n"
     ]
    }
   ],
   "source": [
    "print(lr_model.score(x_train, y_train))\n",
    "print(lr_model.score(x_test, y_test))"
   ]
  },
  {
   "cell_type": "markdown",
   "id": "official-sharp",
   "metadata": {},
   "source": [
    "We can also see our test accuracy is slightly lower than our training score. If the test score is very much lower than our training score, it's a sign of overfitting. In this case, our difference isn't too bad although it could be slightly better.\n",
    "\n",
    "The score we want to use to evaluate the performance of the model is the test score.\n",
    "\n",
    "Another useful evaluation tool, especially for binary classification, is the confusion matrix, which we can plot with sklearn easily:"
   ]
  },
  {
   "cell_type": "code",
   "execution_count": 25,
   "id": "extra-crash",
   "metadata": {},
   "outputs": [],
   "source": [
    "# This was deprecated in sklearn \n",
    "#confusion_matrix( x_test, y_test)#, colorbar=False) # this argument only works with sklearn 0.24 and up"
   ]
  },
  {
   "cell_type": "markdown",
   "id": "a256dc36-cddb-4b5d-b29c-a3649b5323c9",
   "metadata": {},
   "source": [
    "### Live Lecture Additions\n",
    "\n",
    "<div class=\"alert alert-block alert-info\">\n",
    "<b>Lecture Additions:</b> <br>\n",
    "Do you remember what the red box above is trying to tell you? (check out the recording for a full explanation)\n",
    "<br>\n",
    "As promised, here is alternative code for producing a confusion matrix, without the deprecation warning.  Remember, in future classes, code/notebooks with deprecation warnings will not be graded.  So let's practice cleaning these up now.\n",
    "</div>"
   ]
  },
  {
   "cell_type": "code",
   "execution_count": 21,
   "id": "53cbb2f6-8748-4a6a-84f5-a386e9bad3e1",
   "metadata": {},
   "outputs": [
    {
     "data": {
      "image/png": "[encoded data removed]",
      "text/plain": [
       "<Figure size 640x480 with 2 Axes>"
      ]
     },
     "metadata": {},
     "output_type": "display_data"
    }
   ],
   "source": [
    "# packages necessary for this block of code\n",
    "from sklearn.metrics import confusion_matrix, ConfusionMatrixDisplay\n",
    "import matplotlib.pyplot as plt\n",
    "\n",
    "#gather the predictions for our test dataset\n",
    "predictions = lr_model.predict(x_test)\n",
    "\n",
    "# construct the confusion matix - this retrns an array\n",
    "cm = confusion_matrix(y_test, predictions, labels=lr_model.classes_)\n",
    "\n",
    "# format and display the confusion matrix\n",
    "disp = ConfusionMatrixDisplay(confusion_matrix=cm, display_labels=lr_model.classes_)\n",
    "disp.plot(cmap=plt.cm.Blues)\n",
    "plt.show()"
   ]
  },
  {
   "cell_type": "markdown",
   "id": "biological-welding",
   "metadata": {},
   "source": [
    "The confusion matrix shows true negatives (TN, or a prediction of 0 when the true label is 0), false negatives (FN, prediction=0 true=1), true positives (TP, prediction=true=1) and false positives (FP, prediction=1 true=0). From this, we can get an idea of how the algorithm is performing and compare multiple models. For example, here, we might care a lot about false negatives, since we would be missing people who may get diabetes and they may not be properly  treated. A false positive may cause someone to take precautionary measures, but may not be so bad. We can also tune our algorithm to reduce false negatives, which is covered in the advanced section."
   ]
  },
  {
   "cell_type": "markdown",
   "id": "pediatric-arrangement",
   "metadata": {},
   "source": [
    "Another aspect of evaluation in CRISP-DM is checking our model against our original business or organizational objectives. For example, in step 1 of CRISP-DM, we may have set an objective of correctly predicting 90% of positive diabetes cases. We could then use the true positive rate (TPR = TP / (TP + FN) , also known as recall) to evaluate performance. In this case, the TPR is 9/15 or 60%, and not high enough. However, with some tuning of the model, we can achieve this. Most sklearn models have a `predict_proba()` method which predicts probabilities for each class:"
   ]
  },
  {
   "cell_type": "code",
   "execution_count": 23,
   "id": "manual-illustration",
   "metadata": {},
   "outputs": [
    {
     "data": {
      "text/plain": [
       "array([[0.97732376, 0.02267624],\n",
       "       [0.99167799, 0.00832201],\n",
       "       [0.98377168, 0.01622832],\n",
       "       [0.9921387 , 0.0078613 ],\n",
       "       [0.39366497, 0.60633503],\n",
       "       [0.74939329, 0.25060671],\n",
       "       [0.97663843, 0.02336157],\n",
       "       [0.99319509, 0.00680491],\n",
       "       [0.97880703, 0.02119297],\n",
       "       [0.90784304, 0.09215696],\n",
       "       [0.98513621, 0.01486379],\n",
       "       [0.99301276, 0.00698724],\n",
       "       [0.96441725, 0.03558275],\n",
       "       [0.94586159, 0.05413841],\n",
       "       [0.80000933, 0.19999067]])"
      ]
     },
     "execution_count": 23,
     "metadata": {},
     "output_type": "execute_result"
    }
   ],
   "source": [
    "lr_model.predict_proba(x_test)[:15]"
   ]
  },
  {
   "cell_type": "markdown",
   "id": "occupational-lingerie",
   "metadata": {},
   "source": [
    "This gives us the probability for 0 (first column) and 1 (second column). By default, the `predict()` method of models (used in the confusion matrix function) uses a threshold of 0.5:"
   ]
  },
  {
   "cell_type": "code",
   "execution_count": 22,
   "id": "simple-crazy",
   "metadata": {},
   "outputs": [
    {
     "data": {
      "text/plain": [
       "array([0, 0, 0, 0, 1, 0, 0, 0, 0, 0, 0, 0, 0, 0, 0])"
      ]
     },
     "execution_count": 22,
     "metadata": {},
     "output_type": "execute_result"
    }
   ],
   "source": [
    "lr_model.predict(x_test)[:15]"
   ]
  },
  {
   "cell_type": "code",
   "execution_count": 29,
   "id": "taken-cloud",
   "metadata": {},
   "outputs": [
    {
     "data": {
      "text/plain": [
       "array([0, 0, 0, 0, 1])"
      ]
     },
     "execution_count": 29,
     "metadata": {},
     "output_type": "execute_result"
    }
   ],
   "source": [
    "(lr_model.predict_proba(x_test)[:5, 1] > 0.5).astype('int')"
   ]
  },
  {
   "cell_type": "markdown",
   "id": "following-olympus",
   "metadata": {},
   "source": [
    "However, if we lower our threshold, we can get fewer false negatives but more false positives. We can use a threshold of 0.2, so any prediction probability of 0.2 or above is rounded up to 1:"
   ]
  },
  {
   "cell_type": "code",
   "execution_count": 34,
   "id": "equivalent-person",
   "metadata": {},
   "outputs": [
    {
     "data": {
      "text/plain": [
       "array([0, 0, 0, 0, 1, 1, 0, 0, 0, 0, 0, 0, 0, 0, 1, 0, 1, 1, 1, 1, 1, 0,\n",
       "       0, 0, 0, 0, 0, 1, 0, 0, 0, 1, 0, 0, 1, 1, 0, 1, 0, 0, 0, 0, 1, 0,\n",
       "       1, 0, 0, 1, 0, 0, 0, 0, 0, 0, 0, 1, 0, 0, 0, 0, 0, 0, 0, 1, 1, 0,\n",
       "       1, 0, 0, 0, 1, 0, 0, 1, 0, 0, 1, 1, 1, 0, 0, 0, 1, 1, 1, 0, 0, 0,\n",
       "       1, 0, 0, 1, 0, 1, 0, 0, 0, 0])"
      ]
     },
     "execution_count": 34,
     "metadata": {},
     "output_type": "execute_result"
    }
   ],
   "source": [
    "predictions_lower_thresh = (lr_model.predict_proba(x_test)[:, 1] > 0.13).astype('int')\n",
    "predictions_lower_thresh"
   ]
  },
  {
   "cell_type": "markdown",
   "id": "excessive-sweden",
   "metadata": {},
   "source": [
    "We can check the accuracy and true positive rate (recall) with the new predictions:"
   ]
  },
  {
   "cell_type": "code",
   "execution_count": 35,
   "id": "confidential-france",
   "metadata": {},
   "outputs": [
    {
     "name": "stdout",
     "output_type": "stream",
     "text": [
      "0.8163265306122449\n",
      "0.9333333333333333\n"
     ]
    }
   ],
   "source": [
    "from sklearn.metrics import accuracy_score, confusion_matrix\n",
    "\n",
    "print(accuracy_score(y_test, predictions_lower_thresh))\n",
    "tn, fp, fn, tp  = confusion_matrix(y_test, predictions_lower_thresh).flatten()\n",
    "print(tp / (tp + fn))"
   ]
  },
  {
   "cell_type": "markdown",
   "id": "romantic-ferry",
   "metadata": {},
   "source": [
    "We can see that with a lower threshold of 0.13, we can achive over 90% TPR, although accuracy has dropped to 82% (below the no information rate). However, if the TPR is more important than the accuracy, then we could use this model."
   ]
  },
  {
   "cell_type": "markdown",
   "id": "experienced-shaft",
   "metadata": {},
   "source": [
    "Last, we can look at the coefficients from the model. In general, larger coefficients mean a feature is more strongly related to the target, but we should scale the features to get an accurate read on this."
   ]
  },
  {
   "cell_type": "code",
   "execution_count": 36,
   "id": "quick-equipment",
   "metadata": {},
   "outputs": [
    {
     "data": {
      "text/plain": [
       "array([[ 0.00687446,  0.03109068, -0.0210144 ,  0.04441329,  0.30447004,\n",
       "        -0.15086551,  0.02659125, -0.07294619,  0.00674225,  0.00985945,\n",
       "        -0.02973122, -0.04197652, -0.01249184, -0.00650956]])"
      ]
     },
     "execution_count": 36,
     "metadata": {},
     "output_type": "execute_result"
    }
   ],
   "source": [
    "lr_model.coef_"
   ]
  },
  {
   "cell_type": "code",
   "execution_count": 27,
   "id": "thrown-israeli",
   "metadata": {},
   "outputs": [
    {
     "data": {
      "text/plain": [
       "Index(['Cholesterol', 'Glucose', 'HDL Chol', 'Age', 'Gender', 'Height',\n",
       "       'Weight', 'BMI', 'Systolic BP', 'Diastolic BP', 'waist', 'hip',\n",
       "       'waist_hip_ratio', 'hdl_chol_ratio'],\n",
       "      dtype='object')"
      ]
     },
     "execution_count": 27,
     "metadata": {},
     "output_type": "execute_result"
    }
   ],
   "source": [
    "features.columns"
   ]
  },
  {
   "cell_type": "code",
   "execution_count": 28,
   "id": "polar-forge",
   "metadata": {},
   "outputs": [],
   "source": [
    "coef_df = pd.DataFrame(data=lr_model.coef_, columns=features.columns)"
   ]
  },
  {
   "cell_type": "code",
   "execution_count": 29,
   "id": "south-halifax",
   "metadata": {},
   "outputs": [
    {
     "data": {
      "text/plain": [
       "<Axes: >"
      ]
     },
     "execution_count": 29,
     "metadata": {},
     "output_type": "execute_result"
    },
    {
     "data": {
      "image/png": "[encoded data removed]",
      "text/plain": [
       "<Figure size 640x480 with 1 Axes>"
      ]
     },
     "metadata": {},
     "output_type": "display_data"
    }
   ],
   "source": [
    "coef_df.T.sort_values(by=0).plot.bar(legend=False)"
   ]
  },
  {
   "cell_type": "code",
   "execution_count": 30,
   "id": "consolidated-phase",
   "metadata": {},
   "outputs": [
    {
     "data": {
      "text/plain": [
       "1.9952623149688795"
      ]
     },
     "execution_count": 30,
     "metadata": {},
     "output_type": "execute_result"
    }
   ],
   "source": [
    "10**0.3"
   ]
  },
  {
   "cell_type": "code",
   "execution_count": 31,
   "id": "375d4e91-56b0-4c82-9f4e-c09cc66f101f",
   "metadata": {},
   "outputs": [
    {
     "data": {
      "text/plain": [
       "0.7079457843841379"
      ]
     },
     "execution_count": 31,
     "metadata": {},
     "output_type": "execute_result"
    }
   ],
   "source": [
    "10**-.15"
   ]
  },
  {
   "cell_type": "markdown",
   "id": "collect-pickup",
   "metadata": {},
   "source": [
    "We can see the unscaled data has the height and gender as the most important features. With gender, we could say between female (0) and male (1) the log odds of having diabetes increases by 0.3. Or, taking `10**0.3`, we can see that the odds of diabetes increases by a factor of 2 between men and women in this dataset. We can also see that age, glucose, weight, and other factors are positively correlated with the occurance of diabetes, which makes sense."
   ]
  },
  {
   "cell_type": "markdown",
   "id": "artistic-inventory",
   "metadata": {},
   "source": [
    "# 6. Deployment"
   ]
  },
  {
   "cell_type": "markdown",
   "id": "present-harvest",
   "metadata": {},
   "source": [
    "We need to think about how we would want to deploy this and use it in a business or organizational setting. Are we going to have the data sent to us, we run the model by hand, and send results back? That is not very efficient. A common way of deploying a model is with an API (application programming interface), which allow programmers to send data to our API and get a prediction back. Cloud providers like AWS, Azure, and GCP are making this easier to deploy at scale using Python. We could create an API, and other software engineers could integrate it into software for doctors. Doctors would then be able to use the software to get a prediction for the probability someone might develop diabetes based on their biographical and healt data.\n",
    "\n",
    "Below, we write a short summary of our overall process and results."
   ]
  },
  {
   "cell_type": "markdown",
   "id": "intense-gnome",
   "metadata": {},
   "source": [
    "## Brief summary writeup"
   ]
  },
  {
   "cell_type": "markdown",
   "id": "acknowledged-masters",
   "metadata": {},
   "source": [
    "We were able to successfully model the occurance of diabetes using a machine learning model with biographical and health data. Minimal cleaning was performed on the data: we dropped the 'height' column because it had little relation to the target (the weakest Phi-k correlation), and converted categorical string columns to numeric values (the Gender and Diabetes columns). From the Phi-k correlation, we found the glucose measurement had the strongest correlation to the target, with higher glucose levels usually signifying the occurance of diabetes. We fit a logistic regression model to the data, and achieved 91% accuracy on the test data compared with a majority class fraction of 85%. So far, the model shows promise."
   ]
  },
  {
   "cell_type": "markdown",
   "id": "consolidated-condition",
   "metadata": {},
   "source": [
    "# (optional) Advanced section"
   ]
  },
  {
   "cell_type": "markdown",
   "id": "relevant-australian",
   "metadata": {},
   "source": [
    "Here, we will cover:\n",
    "\n",
    "- other ML models in sklearn\n",
    "- tuning hyperparameters\n",
    "- other evaluation metrics (ROC/AUC, classification report, precision/recall/F1 score)\n",
    "- using probabilities of predictions"
   ]
  },
  {
   "cell_type": "markdown",
   "id": "talented-characterization",
   "metadata": {},
   "source": [
    "### Other ML models in sklearn"
   ]
  },
  {
   "cell_type": "markdown",
   "id": "compliant-radio",
   "metadata": {},
   "source": [
    " There are several other classification models in sklearn. The documentation for sklearn is good, and a few pages on these classifiers are [here](https://scikit-learn.org/stable/supervised_learning.html) and [here](https://scikit-learn.org/stable/auto_examples/classification/plot_classifier_comparison.html). We will look at the random forest and gradient boosting classifier, since these are two other models that often work well. Both of these models are based on decision trees, and combine many models to reduce bias and variance at the same time."
   ]
  },
  {
   "cell_type": "code",
   "execution_count": 32,
   "id": "empirical-parent",
   "metadata": {},
   "outputs": [
    {
     "data": {
      "text/html": [
       "<style>#sk-container-id-2 {color: black;}#sk-container-id-2 pre{padding: 0;}#sk-container-id-2 div.sk-toggleable {background-color: white;}#sk-container-id-2 label.sk-toggleable__label {cursor: pointer;display: block;width: 100%;margin-bottom: 0;padding: 0.3em;box-sizing: border-box;text-align: center;}#sk-container-id-2 label.sk-toggleable__label-arrow:before {content: \"▸\";float: left;margin-right: 0.25em;color: #696969;}#sk-container-id-2 label.sk-toggleable__label-arrow:hover:before {color: black;}#sk-container-id-2 div.sk-estimator:hover label.sk-toggleable__label-arrow:before {color: black;}#sk-container-id-2 div.sk-toggleable__content {max-height: 0;max-width: 0;overflow: hidden;text-align: left;background-color: #f0f8ff;}#sk-container-id-2 div.sk-toggleable__content pre {margin: 0.2em;color: black;border-radius: 0.25em;background-color: #f0f8ff;}#sk-container-id-2 input.sk-toggleable__control:checked~div.sk-toggleable__content {max-height: 200px;max-width: 100%;overflow: auto;}#sk-container-id-2 input.sk-toggleable__control:checked~label.sk-toggleable__label-arrow:before {content: \"▾\";}#sk-container-id-2 div.sk-estimator input.sk-toggleable__control:checked~label.sk-toggleable__label {background-color: #d4ebff;}#sk-container-id-2 div.sk-label input.sk-toggleable__control:checked~label.sk-toggleable__label {background-color: #d4ebff;}#sk-container-id-2 input.sk-hidden--visually {border: 0;clip: rect(1px 1px 1px 1px);clip: rect(1px, 1px, 1px, 1px);height: 1px;margin: -1px;overflow: hidden;padding: 0;position: absolute;width: 1px;}#sk-container-id-2 div.sk-estimator {font-family: monospace;background-color: #f0f8ff;border: 1px dotted black;border-radius: 0.25em;box-sizing: border-box;margin-bottom: 0.5em;}#sk-container-id-2 div.sk-estimator:hover {background-color: #d4ebff;}#sk-container-id-2 div.sk-parallel-item::after {content: \"\";width: 100%;border-bottom: 1px solid gray;flex-grow: 1;}#sk-container-id-2 div.sk-label:hover label.sk-toggleable__label {background-color: #d4ebff;}#sk-container-id-2 div.sk-serial::before {content: \"\";position: absolute;border-left: 1px solid gray;box-sizing: border-box;top: 0;bottom: 0;left: 50%;z-index: 0;}#sk-container-id-2 div.sk-serial {display: flex;flex-direction: column;align-items: center;background-color: white;padding-right: 0.2em;padding-left: 0.2em;position: relative;}#sk-container-id-2 div.sk-item {position: relative;z-index: 1;}#sk-container-id-2 div.sk-parallel {display: flex;align-items: stretch;justify-content: center;background-color: white;position: relative;}#sk-container-id-2 div.sk-item::before, #sk-container-id-2 div.sk-parallel-item::before {content: \"\";position: absolute;border-left: 1px solid gray;box-sizing: border-box;top: 0;bottom: 0;left: 50%;z-index: -1;}#sk-container-id-2 div.sk-parallel-item {display: flex;flex-direction: column;z-index: 1;position: relative;background-color: white;}#sk-container-id-2 div.sk-parallel-item:first-child::after {align-self: flex-end;width: 50%;}#sk-container-id-2 div.sk-parallel-item:last-child::after {align-self: flex-start;width: 50%;}#sk-container-id-2 div.sk-parallel-item:only-child::after {width: 0;}#sk-container-id-2 div.sk-dashed-wrapped {border: 1px dashed gray;margin: 0 0.4em 0.5em 0.4em;box-sizing: border-box;padding-bottom: 0.4em;background-color: white;}#sk-container-id-2 div.sk-label label {font-family: monospace;font-weight: bold;display: inline-block;line-height: 1.2em;}#sk-container-id-2 div.sk-label-container {text-align: center;}#sk-container-id-2 div.sk-container {/* jupyter's `normalize.less` sets `[hidden] { display: none; }` but bootstrap.min.css set `[hidden] { display: none !important; }` so we also need the `!important` here to be able to override the default hidden behavior on the sphinx rendered scikit-learn.org. See: https://github.com/scikit-learn/scikit-learn/issues/21755 */display: inline-block !important;position: relative;}#sk-container-id-2 div.sk-text-repr-fallback {display: none;}</style><div id=\"sk-container-id-2\" class=\"sk-top-container\"><div class=\"sk-text-repr-fallback\"><pre>GradientBoostingClassifier(max_depth=4, random_state=42)</pre><b>In a Jupyter environment, please rerun this cell to show the HTML representation or trust the notebook. <br />On GitHub, the HTML representation is unable to render, please try loading this page with nbviewer.org.</b></div><div class=\"sk-container\" hidden><div class=\"sk-item\"><div class=\"sk-estimator sk-toggleable\"><input class=\"sk-toggleable__control sk-hidden--visually\" id=\"sk-estimator-id-2\" type=\"checkbox\" checked><label for=\"sk-estimator-id-2\" class=\"sk-toggleable__label sk-toggleable__label-arrow\">GradientBoostingClassifier</label><div class=\"sk-toggleable__content\"><pre>GradientBoostingClassifier(max_depth=4, random_state=42)</pre></div></div></div></div></div>"
      ],
      "text/plain": [
       "GradientBoostingClassifier(max_depth=4, random_state=42)"
      ]
     },
     "execution_count": 32,
     "metadata": {},
     "output_type": "execute_result"
    }
   ],
   "source": [
    "from sklearn.ensemble import RandomForestClassifier, GradientBoostingClassifier\n",
    "\n",
    "rf_model = RandomForestClassifier(max_depth=5, n_jobs=-1, random_state=42)\n",
    "gb_model = GradientBoostingClassifier(max_depth=4, random_state=42)\n",
    "\n",
    "rf_model.fit(x_train, y_train)\n",
    "gb_model.fit(x_train, y_train)"
   ]
  },
  {
   "cell_type": "code",
   "execution_count": 33,
   "id": "nearby-secretary",
   "metadata": {},
   "outputs": [
    {
     "name": "stdout",
     "output_type": "stream",
     "text": [
      "0.9807692307692307\n",
      "0.8974358974358975\n"
     ]
    }
   ],
   "source": [
    "print(rf_model.score(x_train, y_train))\n",
    "print(rf_model.score(x_test, y_test))"
   ]
  },
  {
   "cell_type": "code",
   "execution_count": 34,
   "id": "physical-egyptian",
   "metadata": {},
   "outputs": [
    {
     "name": "stdout",
     "output_type": "stream",
     "text": [
      "1.0\n",
      "0.8974358974358975\n"
     ]
    }
   ],
   "source": [
    "print(gb_model.score(x_train, y_train))\n",
    "print(gb_model.score(x_test, y_test))"
   ]
  },
  {
   "cell_type": "code",
   "execution_count": 35,
   "id": "banned-seattle",
   "metadata": {},
   "outputs": [
    {
     "data": {
      "image/png": "[encoded data removed]",
      "text/plain": [
       "<Figure size 640x480 with 2 Axes>"
      ]
     },
     "metadata": {},
     "output_type": "display_data"
    }
   ],
   "source": [
    "#plot_confusion_matrix(rf_model, x_test, y_test, cmap='Blues')\n",
    "\n",
    "\n",
    "#gather the predictions for our test dataset\n",
    "predictions = rf_model.predict(x_test)\n",
    "\n",
    "# construct the confusion matix - this retrns an array\n",
    "cm = confusion_matrix(y_test, predictions, labels=rf_model.classes_)\n",
    "\n",
    "# format and display the confusion matrix\n",
    "disp = ConfusionMatrixDisplay(confusion_matrix=cm, display_labels=rf_model.classes_)\n",
    "disp.plot(cmap=plt.cm.Blues)\n",
    "plt.show()"
   ]
  },
  {
   "cell_type": "code",
   "execution_count": 36,
   "id": "initial-challenge",
   "metadata": {},
   "outputs": [
    {
     "data": {
      "image/png": "[encoded data removed]",
      "text/plain": [
       "<Figure size 640x480 with 2 Axes>"
      ]
     },
     "metadata": {},
     "output_type": "display_data"
    }
   ],
   "source": [
    "#plot_confusion_matrix(gb_model, x_test, y_test, cmap='Blues')\n",
    "\n",
    "#gather the predictions for our test dataset\n",
    "predictions = gb_model.predict(x_test)\n",
    "\n",
    "# construct the confusion matix - this retrns an array\n",
    "cm = confusion_matrix(y_test, predictions, labels=gb_model.classes_)\n",
    "\n",
    "# format and display the confusion matrix\n",
    "disp = ConfusionMatrixDisplay(confusion_matrix=cm, display_labels=gb_model.classes_)\n",
    "disp.plot(cmap=plt.cm.Blues)\n",
    "plt.show()"
   ]
  },
  {
   "cell_type": "markdown",
   "id": "integrated-princeton",
   "metadata": {},
   "source": [
    "We can see the models are overfitting here, since the training accuracy is much higher than the test accuracy. This means we are fitting to the noise in the data. It makes sense with the outlier detection from last week, since from the IQR method it looked like a lot of samples were outliers. These ensemble tree-based methods are prone to overfitting like this. With any model, we can optimize the hyperparameters to minimize or remove overfitting and optimize performance."
   ]
  },
  {
   "cell_type": "markdown",
   "id": "clinical-istanbul",
   "metadata": {},
   "source": [
    "### Optimizing hyperparameters"
   ]
  },
  {
   "cell_type": "markdown",
   "id": "collect-extreme",
   "metadata": {},
   "source": [
    "Hyperparameters are the settings for the ML algorithms, like max_depth above, which sets the max depth of the trees used in the classifiers. There are many ways to tune them - we could change values by hand and compare scores. Or, sklearn has some methods shown [here](https://scikit-learn.org/stable/modules/grid_search.html) that can be used. A few of those methods are random and grid search. We provide a range or list of hyperparmeters to try, and it either randomly tries different combinations and picks the best result (highest accuracy or other metric) or it methodically searches through every combination with grid search.\n",
    "\n",
    "However, one of the best methods is to use is Bayesian optimization, from scikit-optimize (skopt). First, we need to install the package with `conda install -c conda-forge scikit-optimize`. Currently (4-2021) sckit-opt has an issue with the latest sklearn, and we need to downgrade sklearn to version 0.23 or follow another solution from [here](https://github.com/scikit-optimize/scikit-optimize/issues/978). We can install sklearn 0.23 with `conda install -c conda-forge scikit-learn=0.23`. Then we can use the hyperparameter search:"
   ]
  },
  {
   "cell_type": "markdown",
   "id": "0d1dc7cc-1f4f-4dcc-a651-d0b007a64c44",
   "metadata": {},
   "source": [
    "### Live Lecture Additions\n",
    "\n",
    "<div class=\"alert alert-block alert-info\">\n",
    "<b>Lecture Additions:</b> <br>\n",
    "As mentioned above, there is a version incompatiblity issue between nupy, sklearn and skopt. Rather than mess with downgrading things to older versions of the packages. I'll demostrate a different approach to achieve the same results.\n",
    "</div>"
   ]
  },
  {
   "cell_type": "code",
   "execution_count": 37,
   "id": "postal-liberia",
   "metadata": {},
   "outputs": [],
   "source": [
    "# from skopt import BayesSearchCV\n",
    "\n",
    "# opt = BayesSearchCV(\n",
    "#     RandomForestClassifier(),\n",
    "#     {\n",
    "#         'max_depth': (3, 20),\n",
    "#         'n_estimators': (50, 500),\n",
    "#         'max_features': (3, 14),\n",
    "#         'min_samples_split': (2, 5)\n",
    "#     },\n",
    "#     n_iter=32,\n",
    "#     cv=3\n",
    "# )\n",
    "\n",
    "# opt.fit(x_train, y_train)\n",
    "\n",
    "# print(\"val. score: %s\" % opt.best_score_)\n",
    "# print(\"test score: %s\" % opt.score(x_test, y_test))"
   ]
  },
  {
   "cell_type": "code",
   "execution_count": 38,
   "id": "drawn-publication",
   "metadata": {},
   "outputs": [],
   "source": [
    "#opt.best_estimator_"
   ]
  },
  {
   "cell_type": "code",
   "execution_count": 39,
   "id": "d31ae4bb-20d7-46a3-a2aa-1f645e05efc3",
   "metadata": {
    "tags": []
   },
   "outputs": [],
   "source": [
    "from sklearn.model_selection import GridSearchCV\n",
    "from sklearn.ensemble import RandomForestClassifier\n",
    "\n",
    "rf = RandomForestClassifier()\n",
    "\n",
    "grid_space={'max_depth':[3,5,10,None],\n",
    "              'n_estimators':[10,100,200],\n",
    "              'max_features':[1,3,5,7],\n",
    "              'min_samples_leaf':[1,2,3],\n",
    "              'min_samples_split':[1,2,3]\n",
    "           }\n",
    "\n",
    "\n",
    "grid = GridSearchCV(rf,param_grid=grid_space,cv=3,scoring='accuracy')\n",
    "model_grid = grid.fit(x_train, y_train)"
   ]
  },
  {
   "cell_type": "code",
   "execution_count": 40,
   "id": "d51f7224-4b79-4559-8e96-077bf519ba57",
   "metadata": {
    "tags": []
   },
   "outputs": [
    {
     "name": "stdout",
     "output_type": "stream",
     "text": [
      "Best hyperparameters are: {'max_depth': 3, 'max_features': 7, 'min_samples_leaf': 2, 'min_samples_split': 3, 'n_estimators': 100}\n",
      "Best score is: 0.9166666666666666\n"
     ]
    }
   ],
   "source": [
    "print('Best hyperparameters are: '+str(model_grid.best_params_))\n",
    "print('Best score is: '+str(model_grid.best_score_))"
   ]
  },
  {
   "cell_type": "code",
   "execution_count": 41,
   "id": "5550797d-a585-4542-9171-c3627538cd85",
   "metadata": {
    "tags": []
   },
   "outputs": [
    {
     "data": {
      "text/html": [
       "<style>#sk-container-id-3 {color: black;}#sk-container-id-3 pre{padding: 0;}#sk-container-id-3 div.sk-toggleable {background-color: white;}#sk-container-id-3 label.sk-toggleable__label {cursor: pointer;display: block;width: 100%;margin-bottom: 0;padding: 0.3em;box-sizing: border-box;text-align: center;}#sk-container-id-3 label.sk-toggleable__label-arrow:before {content: \"▸\";float: left;margin-right: 0.25em;color: #696969;}#sk-container-id-3 label.sk-toggleable__label-arrow:hover:before {color: black;}#sk-container-id-3 div.sk-estimator:hover label.sk-toggleable__label-arrow:before {color: black;}#sk-container-id-3 div.sk-toggleable__content {max-height: 0;max-width: 0;overflow: hidden;text-align: left;background-color: #f0f8ff;}#sk-container-id-3 div.sk-toggleable__content pre {margin: 0.2em;color: black;border-radius: 0.25em;background-color: #f0f8ff;}#sk-container-id-3 input.sk-toggleable__control:checked~div.sk-toggleable__content {max-height: 200px;max-width: 100%;overflow: auto;}#sk-container-id-3 input.sk-toggleable__control:checked~label.sk-toggleable__label-arrow:before {content: \"▾\";}#sk-container-id-3 div.sk-estimator input.sk-toggleable__control:checked~label.sk-toggleable__label {background-color: #d4ebff;}#sk-container-id-3 div.sk-label input.sk-toggleable__control:checked~label.sk-toggleable__label {background-color: #d4ebff;}#sk-container-id-3 input.sk-hidden--visually {border: 0;clip: rect(1px 1px 1px 1px);clip: rect(1px, 1px, 1px, 1px);height: 1px;margin: -1px;overflow: hidden;padding: 0;position: absolute;width: 1px;}#sk-container-id-3 div.sk-estimator {font-family: monospace;background-color: #f0f8ff;border: 1px dotted black;border-radius: 0.25em;box-sizing: border-box;margin-bottom: 0.5em;}#sk-container-id-3 div.sk-estimator:hover {background-color: #d4ebff;}#sk-container-id-3 div.sk-parallel-item::after {content: \"\";width: 100%;border-bottom: 1px solid gray;flex-grow: 1;}#sk-container-id-3 div.sk-label:hover label.sk-toggleable__label {background-color: #d4ebff;}#sk-container-id-3 div.sk-serial::before {content: \"\";position: absolute;border-left: 1px solid gray;box-sizing: border-box;top: 0;bottom: 0;left: 50%;z-index: 0;}#sk-container-id-3 div.sk-serial {display: flex;flex-direction: column;align-items: center;background-color: white;padding-right: 0.2em;padding-left: 0.2em;position: relative;}#sk-container-id-3 div.sk-item {position: relative;z-index: 1;}#sk-container-id-3 div.sk-parallel {display: flex;align-items: stretch;justify-content: center;background-color: white;position: relative;}#sk-container-id-3 div.sk-item::before, #sk-container-id-3 div.sk-parallel-item::before {content: \"\";position: absolute;border-left: 1px solid gray;box-sizing: border-box;top: 0;bottom: 0;left: 50%;z-index: -1;}#sk-container-id-3 div.sk-parallel-item {display: flex;flex-direction: column;z-index: 1;position: relative;background-color: white;}#sk-container-id-3 div.sk-parallel-item:first-child::after {align-self: flex-end;width: 50%;}#sk-container-id-3 div.sk-parallel-item:last-child::after {align-self: flex-start;width: 50%;}#sk-container-id-3 div.sk-parallel-item:only-child::after {width: 0;}#sk-container-id-3 div.sk-dashed-wrapped {border: 1px dashed gray;margin: 0 0.4em 0.5em 0.4em;box-sizing: border-box;padding-bottom: 0.4em;background-color: white;}#sk-container-id-3 div.sk-label label {font-family: monospace;font-weight: bold;display: inline-block;line-height: 1.2em;}#sk-container-id-3 div.sk-label-container {text-align: center;}#sk-container-id-3 div.sk-container {/* jupyter's `normalize.less` sets `[hidden] { display: none; }` but bootstrap.min.css set `[hidden] { display: none !important; }` so we also need the `!important` here to be able to override the default hidden behavior on the sphinx rendered scikit-learn.org. See: https://github.com/scikit-learn/scikit-learn/issues/21755 */display: inline-block !important;position: relative;}#sk-container-id-3 div.sk-text-repr-fallback {display: none;}</style><div id=\"sk-container-id-3\" class=\"sk-top-container\"><div class=\"sk-text-repr-fallback\"><pre>RandomForestClassifier(max_depth=3, max_features=7, min_samples_leaf=2,\n",
       "                       min_samples_split=3)</pre><b>In a Jupyter environment, please rerun this cell to show the HTML representation or trust the notebook. <br />On GitHub, the HTML representation is unable to render, please try loading this page with nbviewer.org.</b></div><div class=\"sk-container\" hidden><div class=\"sk-item\"><div class=\"sk-estimator sk-toggleable\"><input class=\"sk-toggleable__control sk-hidden--visually\" id=\"sk-estimator-id-3\" type=\"checkbox\" checked><label for=\"sk-estimator-id-3\" class=\"sk-toggleable__label sk-toggleable__label-arrow\">RandomForestClassifier</label><div class=\"sk-toggleable__content\"><pre>RandomForestClassifier(max_depth=3, max_features=7, min_samples_leaf=2,\n",
       "                       min_samples_split=3)</pre></div></div></div></div></div>"
      ],
      "text/plain": [
       "RandomForestClassifier(max_depth=3, max_features=7, min_samples_leaf=2,\n",
       "                       min_samples_split=3)"
      ]
     },
     "execution_count": 41,
     "metadata": {},
     "output_type": "execute_result"
    }
   ],
   "source": [
    "#saving the best performing model\n",
    "model_grid.best_estimator_"
   ]
  },
  {
   "cell_type": "markdown",
   "id": "published-royalty",
   "metadata": {},
   "source": [
    "This takes a while to run, since it is trying several combinations of hyperparameters. Essentially, it is checking the cross-validation accuracy scores and then trying the next combination of hyperparameters that seems like it should improve performance the most. The top answer to this [Quora question](https://www.quora.com/How-does-Bayesian-optimization-work) goes into it in more detail.\n",
    "\n",
    "We can search the Bayesian optimization increased our accuracy of the model but a good amount, and is slightly better than the 90.8% accuracy from our linear regression.\n",
    "\n",
    "Different models have different hyperparameters, and learning which ones are important and what values they often take is part of learning ML and building up the expertise.  For random forests, we used some of the most important hyperparamaters, but not all hyperparameters. The max_depth argument is how deep the decision trees can be, while n_estimators is the number of trees. max_features is the number of features it randomly selects from for each tree, and min_samples_split is how many samples need to be in a leaf of the tree to split it. We'll learn more about decision trees next week.\n",
    "\n",
    "For logistic regression, we can optimize the regularization with the C, penalty, and l1_ratio hyperparameters."
   ]
  },
  {
   "cell_type": "markdown",
   "id": "functioning-produce",
   "metadata": {},
   "source": [
    "### Other evaluation metrics"
   ]
  },
  {
   "cell_type": "markdown",
   "id": "olive-playing",
   "metadata": {},
   "source": [
    "Now that we have an optimized model, let's look at some other evaluation metrics to score it with We already saw accuracy, which is the percent of correct predictions out of the total number of samples. We can also look at some more specific counts of correct values with precision and recall. Precision is the number of TP divided by the number of all predicted positives (TP + FP). Recall is the number of TP divided by the number of all real positives (TP + FN). In our case, we might care most about improving recall. We can easily access these metrics with sklearn:"
   ]
  },
  {
   "cell_type": "code",
   "execution_count": 42,
   "id": "personal-amsterdam",
   "metadata": {},
   "outputs": [
    {
     "name": "stdout",
     "output_type": "stream",
     "text": [
      "              precision    recall  f1-score   support\n",
      "\n",
      "           0       0.96      0.97      0.96        66\n",
      "           1       0.82      0.75      0.78        12\n",
      "\n",
      "    accuracy                           0.94        78\n",
      "   macro avg       0.89      0.86      0.87        78\n",
      "weighted avg       0.93      0.94      0.93        78\n",
      "\n"
     ]
    }
   ],
   "source": [
    "from sklearn.metrics import classification_report\n",
    "\n",
    "print(classification_report(y_test, model_grid.predict(x_test)))"
   ]
  },
  {
   "cell_type": "markdown",
   "id": "annoying-dakota",
   "metadata": {},
   "source": [
    "It shows the precision and recall for each class, as well as a macro and weighted average (micro). Macro is simply the average between the values for the classes, whiche the weighted average (micro) adds up the values for each individual class in the calculations. So macro is (precision_0 + precision_1) / 2 while micro is (TP_0 + TP_1) / (TP_0 + TP_1 + FP_0 + FP_1) for precision.\n",
    "\n",
    "We also see the F1 score, which is the harmonic mean between precision and recall 2 * (P * R) / (P + R). We also see support, which is the number of samples.\n",
    "\n",
    "The package `yellowbrick` also provides a way to plot this classification report, as well as some other evaluation plotting functions.\n",
    "\n",
    "Another nice metric for binary classification is the reciever operating characteristic (ROC) curve and AUC score:"
   ]
  },
  {
   "cell_type": "markdown",
   "id": "e34d4624-eaba-4a1d-931b-a128b172d077",
   "metadata": {},
   "source": [
    "### Live Lecture Additions\n",
    "\n",
    "<div class=\"alert alert-block alert-info\">\n",
    "<b>Lecture Additions:</b> <br>\n",
    "Another function that has been replaced in sklearn\n",
    "</div>"
   ]
  },
  {
   "cell_type": "code",
   "execution_count": 43,
   "id": "sexual-melbourne",
   "metadata": {},
   "outputs": [],
   "source": [
    "# from sklearn.metrics import plot_roc_curve\n",
    "\n",
    "# roc = plot_roc_curve(model_grid, x_test, y_test)\n",
    "\n",
    "#roc.roc_auc"
   ]
  },
  {
   "cell_type": "code",
   "execution_count": 44,
   "id": "fb358cb3-41cb-4424-88e3-cf1048721bde",
   "metadata": {
    "tags": []
   },
   "outputs": [
    {
     "data": {
      "image/png": "[encoded data removed]",
      "text/plain": [
       "<Figure size 640x480 with 1 Axes>"
      ]
     },
     "metadata": {},
     "output_type": "display_data"
    }
   ],
   "source": [
    "from sklearn.metrics import RocCurveDisplay\n",
    "\n",
    "RocCurveDisplay.from_estimator(model_grid, x_test, y_test)\n",
    "plt.show()"
   ]
  },
  {
   "cell_type": "markdown",
   "id": "political-exposure",
   "metadata": {},
   "source": [
    "This shows the FPR vs TPR (FPR = FP / (FP + TN) and TPR = TP / (TP + FN)). Each point is calculated by taking a value for the rounding threshold (the value where we round up a predicted probability to 1). A perfect model would touch the upper left of the plot, meaning a 100% true positive rate and 0% false positive rate. We can also get the AUC, or area under the curve, which is the integral of the line. It is the area under the ROC curve. For a perfect model, this would be 1. A model that randomly guesses values would approximately be a diagonal line from 0, 0 to 1, 1.\n",
    "\n",
    "We can compare this AUC score to our other model, and we actually see the logistic regression model performs better. We are using the `drop_intermediate=False` argument to keep all the TPR and FPR values for all thresholds (all unique predicted probability values in the predictions) so we can use it in the next section."
   ]
  },
  {
   "cell_type": "markdown",
   "id": "04795aed-33c0-4b32-a213-8e414ce87a0f",
   "metadata": {},
   "source": [
    "### Live Lecture Additions\n",
    "\n",
    "<div class=\"alert alert-block alert-info\">\n",
    "<b>Lecture Additions:</b> <br>\n",
    "And one more\n",
    "</div>"
   ]
  },
  {
   "cell_type": "code",
   "execution_count": 45,
   "id": "marine-symbol",
   "metadata": {},
   "outputs": [
    {
     "data": {
      "image/png": "[encoded data removed]",
      "text/plain": [
       "<Figure size 640x480 with 1 Axes>"
      ]
     },
     "metadata": {},
     "output_type": "display_data"
    }
   ],
   "source": [
    "#roc = plot_roc_curve(lr_model, x_test, y_test)\n",
    "\n",
    "RocCurveDisplay.from_estimator(lr_model, x_test, y_test)\n",
    "plt.show()"
   ]
  },
  {
   "cell_type": "markdown",
   "id": "popular-timothy",
   "metadata": {},
   "source": [
    "### Using prediction probabilities"
   ]
  },
  {
   "cell_type": "markdown",
   "id": "general-multimedia",
   "metadata": {},
   "source": [
    "It looks like our logistic regression model is best, so we'll use that. With most models in sklearn, there is a predict_proba method we can use, as we saw. We can get the probability for class 1 (diabetes) and create some plots:"
   ]
  },
  {
   "cell_type": "code",
   "execution_count": 46,
   "id": "computational-chess",
   "metadata": {},
   "outputs": [],
   "source": [
    "probabilities = lr_model.predict_proba(x_test)[:, 1]"
   ]
  },
  {
   "cell_type": "code",
   "execution_count": 47,
   "id": "loving-personal",
   "metadata": {},
   "outputs": [],
   "source": [
    "prob_df = pd.DataFrame(data={'predicted_probability': probabilities, 'target': y_test})"
   ]
  },
  {
   "cell_type": "code",
   "execution_count": 48,
   "id": "critical-blame",
   "metadata": {},
   "outputs": [
    {
     "data": {
      "text/plain": [
       "<Axes: xlabel='predicted_probability', ylabel='Density'>"
      ]
     },
     "execution_count": 48,
     "metadata": {},
     "output_type": "execute_result"
    },
    {
     "data": {
      "image/png": "[encoded data removed]",
      "text/plain": [
       "<Figure size 640x480 with 1 Axes>"
      ]
     },
     "metadata": {},
     "output_type": "display_data"
    }
   ],
   "source": [
    "import seaborn as sns\n",
    "\n",
    "sns.histplot(data=prob_df, x='predicted_probability', hue='target', stat='density', common_norm=False)"
   ]
  },
  {
   "cell_type": "markdown",
   "id": "linear-programmer",
   "metadata": {},
   "source": [
    "It looks like our predictions are mostly good, but we do have several low-confidence predictions for the occurance of diabetes. We can use pandas filtering to examine these and see if there are commonalities among them."
   ]
  },
  {
   "cell_type": "code",
   "execution_count": 49,
   "id": "worldwide-bench",
   "metadata": {},
   "outputs": [
    {
     "data": {
      "text/html": [
       "<div>\n",
       "<style scoped>\n",
       "    .dataframe tbody tr th:only-of-type {\n",
       "        vertical-align: middle;\n",
       "    }\n",
       "\n",
       "    .dataframe tbody tr th {\n",
       "        vertical-align: top;\n",
       "    }\n",
       "\n",
       "    .dataframe thead th {\n",
       "        text-align: right;\n",
       "    }\n",
       "</style>\n",
       "<table border=\"1\" class=\"dataframe\">\n",
       "  <thead>\n",
       "    <tr style=\"text-align: right;\">\n",
       "      <th></th>\n",
       "      <th>predicted_probability</th>\n",
       "      <th>target</th>\n",
       "    </tr>\n",
       "    <tr>\n",
       "      <th>Patient number</th>\n",
       "      <th></th>\n",
       "      <th></th>\n",
       "    </tr>\n",
       "  </thead>\n",
       "  <tbody>\n",
       "    <tr>\n",
       "      <th>354</th>\n",
       "      <td>0.307501</td>\n",
       "      <td>1</td>\n",
       "    </tr>\n",
       "    <tr>\n",
       "      <th>341</th>\n",
       "      <td>0.388425</td>\n",
       "      <td>1</td>\n",
       "    </tr>\n",
       "    <tr>\n",
       "      <th>83</th>\n",
       "      <td>0.134924</td>\n",
       "      <td>1</td>\n",
       "    </tr>\n",
       "    <tr>\n",
       "      <th>340</th>\n",
       "      <td>0.194921</td>\n",
       "      <td>1</td>\n",
       "    </tr>\n",
       "    <tr>\n",
       "      <th>272</th>\n",
       "      <td>0.470583</td>\n",
       "      <td>1</td>\n",
       "    </tr>\n",
       "  </tbody>\n",
       "</table>\n",
       "</div>"
      ],
      "text/plain": [
       "                predicted_probability  target\n",
       "Patient number                               \n",
       "354                          0.307501       1\n",
       "341                          0.388425       1\n",
       "83                           0.134924       1\n",
       "340                          0.194921       1\n",
       "272                          0.470583       1"
      ]
     },
     "execution_count": 49,
     "metadata": {},
     "output_type": "execute_result"
    }
   ],
   "source": [
    "index = prob_df[(prob_df['target'] == 1) & (prob_df['predicted_probability'] < 0.5)].index\n",
    "prob_df.loc[index]"
   ]
  },
  {
   "cell_type": "code",
   "execution_count": 50,
   "id": "light-browser",
   "metadata": {},
   "outputs": [
    {
     "data": {
      "text/html": [
       "<div>\n",
       "<style scoped>\n",
       "    .dataframe tbody tr th:only-of-type {\n",
       "        vertical-align: middle;\n",
       "    }\n",
       "\n",
       "    .dataframe tbody tr th {\n",
       "        vertical-align: top;\n",
       "    }\n",
       "\n",
       "    .dataframe thead th {\n",
       "        text-align: right;\n",
       "    }\n",
       "</style>\n",
       "<table border=\"1\" class=\"dataframe\">\n",
       "  <thead>\n",
       "    <tr style=\"text-align: right;\">\n",
       "      <th></th>\n",
       "      <th>Cholesterol</th>\n",
       "      <th>Glucose</th>\n",
       "      <th>HDL Chol</th>\n",
       "      <th>Age</th>\n",
       "      <th>Gender</th>\n",
       "      <th>Height</th>\n",
       "      <th>Weight</th>\n",
       "      <th>BMI</th>\n",
       "      <th>Systolic BP</th>\n",
       "      <th>Diastolic BP</th>\n",
       "      <th>waist</th>\n",
       "      <th>hip</th>\n",
       "      <th>waist_hip_ratio</th>\n",
       "      <th>hdl_chol_ratio</th>\n",
       "    </tr>\n",
       "    <tr>\n",
       "      <th>Patient number</th>\n",
       "      <th></th>\n",
       "      <th></th>\n",
       "      <th></th>\n",
       "      <th></th>\n",
       "      <th></th>\n",
       "      <th></th>\n",
       "      <th></th>\n",
       "      <th></th>\n",
       "      <th></th>\n",
       "      <th></th>\n",
       "      <th></th>\n",
       "      <th></th>\n",
       "      <th></th>\n",
       "      <th></th>\n",
       "    </tr>\n",
       "  </thead>\n",
       "  <tbody>\n",
       "    <tr>\n",
       "      <th>354</th>\n",
       "      <td>289</td>\n",
       "      <td>111</td>\n",
       "      <td>50</td>\n",
       "      <td>70</td>\n",
       "      <td>1</td>\n",
       "      <td>60</td>\n",
       "      <td>220</td>\n",
       "      <td>43.0</td>\n",
       "      <td>126</td>\n",
       "      <td>80</td>\n",
       "      <td>51</td>\n",
       "      <td>54</td>\n",
       "      <td>0.944444</td>\n",
       "      <td>0.173010</td>\n",
       "    </tr>\n",
       "    <tr>\n",
       "      <th>341</th>\n",
       "      <td>204</td>\n",
       "      <td>173</td>\n",
       "      <td>37</td>\n",
       "      <td>66</td>\n",
       "      <td>0</td>\n",
       "      <td>67</td>\n",
       "      <td>146</td>\n",
       "      <td>22.9</td>\n",
       "      <td>138</td>\n",
       "      <td>78</td>\n",
       "      <td>36</td>\n",
       "      <td>48</td>\n",
       "      <td>0.750000</td>\n",
       "      <td>0.181373</td>\n",
       "    </tr>\n",
       "    <tr>\n",
       "      <th>83</th>\n",
       "      <td>191</td>\n",
       "      <td>155</td>\n",
       "      <td>58</td>\n",
       "      <td>31</td>\n",
       "      <td>1</td>\n",
       "      <td>62</td>\n",
       "      <td>237</td>\n",
       "      <td>43.3</td>\n",
       "      <td>140</td>\n",
       "      <td>87</td>\n",
       "      <td>53</td>\n",
       "      <td>56</td>\n",
       "      <td>0.946429</td>\n",
       "      <td>0.303665</td>\n",
       "    </tr>\n",
       "    <tr>\n",
       "      <th>340</th>\n",
       "      <td>246</td>\n",
       "      <td>104</td>\n",
       "      <td>62</td>\n",
       "      <td>66</td>\n",
       "      <td>1</td>\n",
       "      <td>66</td>\n",
       "      <td>189</td>\n",
       "      <td>30.5</td>\n",
       "      <td>200</td>\n",
       "      <td>94</td>\n",
       "      <td>45</td>\n",
       "      <td>46</td>\n",
       "      <td>0.978261</td>\n",
       "      <td>0.252033</td>\n",
       "    </tr>\n",
       "    <tr>\n",
       "      <th>272</th>\n",
       "      <td>219</td>\n",
       "      <td>173</td>\n",
       "      <td>31</td>\n",
       "      <td>56</td>\n",
       "      <td>1</td>\n",
       "      <td>65</td>\n",
       "      <td>197</td>\n",
       "      <td>32.8</td>\n",
       "      <td>100</td>\n",
       "      <td>50</td>\n",
       "      <td>41</td>\n",
       "      <td>50</td>\n",
       "      <td>0.820000</td>\n",
       "      <td>0.141553</td>\n",
       "    </tr>\n",
       "  </tbody>\n",
       "</table>\n",
       "</div>"
      ],
      "text/plain": [
       "                Cholesterol  Glucose  HDL Chol  Age  Gender  Height  Weight  \\\n",
       "Patient number                                                                \n",
       "354                     289      111        50   70       1      60     220   \n",
       "341                     204      173        37   66       0      67     146   \n",
       "83                      191      155        58   31       1      62     237   \n",
       "340                     246      104        62   66       1      66     189   \n",
       "272                     219      173        31   56       1      65     197   \n",
       "\n",
       "                 BMI  Systolic BP  Diastolic BP  waist  hip  waist_hip_ratio  \\\n",
       "Patient number                                                                 \n",
       "354             43.0          126            80     51   54         0.944444   \n",
       "341             22.9          138            78     36   48         0.750000   \n",
       "83              43.3          140            87     53   56         0.946429   \n",
       "340             30.5          200            94     45   46         0.978261   \n",
       "272             32.8          100            50     41   50         0.820000   \n",
       "\n",
       "                hdl_chol_ratio  \n",
       "Patient number                  \n",
       "354                   0.173010  \n",
       "341                   0.181373  \n",
       "83                    0.303665  \n",
       "340                   0.252033  \n",
       "272                   0.141553  "
      ]
     },
     "execution_count": 50,
     "metadata": {},
     "output_type": "execute_result"
    }
   ],
   "source": [
    "x_test.loc[index]"
   ]
  },
  {
   "cell_type": "markdown",
   "id": "surgical-turner",
   "metadata": {},
   "source": [
    "We can see these patients have glucose values similar to non-diabetics, and similar heights. Since the model had height negatively correlated with diabetes, and these patients have taller than average height in the dataset, it could be partly why they are being misclassified (or at least not confidently correctly classified). We might try removing the height column from the data, since intuitively it shouldn't be correlated to diabetes (one would think). Then we could re-evaluate the model."
   ]
  },
  {
   "cell_type": "markdown",
   "id": "adverse-score",
   "metadata": {},
   "source": [
    "One last thing we can do with the probabilities of our classifier is try and get an optimal threshold for rounding. This is a little involved, but is discussed in a few places, including [here](https://machinelearningmastery.com/threshold-moving-for-imbalanced-classification/) and [here](https://stackoverflow.com/questions/28719067/roc-curve-and-cut-off-point-python). Essentially, we get the unique sorted thresholds from our probabability predictions (sorted from greatest to least), add on a value of 1 to the beginning of the thresholds list or array, then get the threshold which has the maximum TPR-FPR. This is called Youden's J and is one method for optimizing the threshold. To get all TPR and FPR rates from the ROC curve, we need to use the function like so `roc = plot_roc_curve(lr_model, x_test, y_test, drop_intermediate=False)`. Then we can get roc.tpr and roc.fpr."
   ]
  }
 ],
 "metadata": {
  "kernelspec": {
   "display_name": "Python 3 (ipykernel)",
   "language": "python",
   "name": "python3"
  },
  "language_info": {
   "codemirror_mode": {
    "name": "ipython",
    "version": 3
   },
   "file_extension": ".py",
   "mimetype": "text/x-python",
   "name": "python",
   "nbconvert_exporter": "python",
   "pygments_lexer": "ipython3",
   "version": "3.11.4"
  }
 },
 "nbformat": 4,
 "nbformat_minor": 5
}
