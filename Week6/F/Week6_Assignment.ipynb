{
 "cells": [
  {
   "cell_type": "code",
   "execution_count": 1,
   "metadata": {},
   "outputs": [],
   "source": [
    "\n",
    "import pandas as pd\n",
    "import matplotlib.pyplot as plt\n",
    "from sklearn.metrics.pairwise import cosine_similarity, pairwise_distances"
   ]
  },
  {
   "cell_type": "markdown",
   "metadata": {},
   "source": [
    "## Load datasets"
   ]
  },
  {
   "cell_type": "code",
   "execution_count": 2,
   "metadata": {},
   "outputs": [
    {
     "data": {
      "text/html": [
       "<div>\n",
       "<style scoped>\n",
       "    .dataframe tbody tr th:only-of-type {\n",
       "        vertical-align: middle;\n",
       "    }\n",
       "\n",
       "    .dataframe tbody tr th {\n",
       "        vertical-align: top;\n",
       "    }\n",
       "\n",
       "    .dataframe thead th {\n",
       "        text-align: right;\n",
       "    }\n",
       "</style>\n",
       "<table border=\"1\" class=\"dataframe\">\n",
       "  <thead>\n",
       "    <tr style=\"text-align: right;\">\n",
       "      <th></th>\n",
       "      <th>movieId</th>\n",
       "      <th>title</th>\n",
       "      <th>genres</th>\n",
       "    </tr>\n",
       "  </thead>\n",
       "  <tbody>\n",
       "    <tr>\n",
       "      <th>6409</th>\n",
       "      <td>50954</td>\n",
       "      <td>It's a Boy Girl Thing (2006)</td>\n",
       "      <td>Comedy|Romance</td>\n",
       "    </tr>\n",
       "    <tr>\n",
       "      <th>9587</th>\n",
       "      <td>175401</td>\n",
       "      <td>Wolf and Calf (1984)</td>\n",
       "      <td>Animation</td>\n",
       "    </tr>\n",
       "    <tr>\n",
       "      <th>1878</th>\n",
       "      <td>2496</td>\n",
       "      <td>Blast from the Past (1999)</td>\n",
       "      <td>Comedy|Romance</td>\n",
       "    </tr>\n",
       "  </tbody>\n",
       "</table>\n",
       "</div>"
      ],
      "text/plain": [
       "      movieId                         title          genres\n",
       "6409    50954  It's a Boy Girl Thing (2006)  Comedy|Romance\n",
       "9587   175401          Wolf and Calf (1984)       Animation\n",
       "1878     2496    Blast from the Past (1999)  Comedy|Romance"
      ]
     },
     "execution_count": 2,
     "metadata": {},
     "output_type": "execute_result"
    }
   ],
   "source": [
    "movies = pd.read_csv('movies.csv')\n",
    "movies.sample(3)"
   ]
  },
  {
   "cell_type": "code",
   "execution_count": 3,
   "metadata": {},
   "outputs": [
    {
     "data": {
      "text/html": [
       "<div>\n",
       "<style scoped>\n",
       "    .dataframe tbody tr th:only-of-type {\n",
       "        vertical-align: middle;\n",
       "    }\n",
       "\n",
       "    .dataframe tbody tr th {\n",
       "        vertical-align: top;\n",
       "    }\n",
       "\n",
       "    .dataframe thead th {\n",
       "        text-align: right;\n",
       "    }\n",
       "</style>\n",
       "<table border=\"1\" class=\"dataframe\">\n",
       "  <thead>\n",
       "    <tr style=\"text-align: right;\">\n",
       "      <th></th>\n",
       "      <th>userId</th>\n",
       "      <th>movieId</th>\n",
       "      <th>rating</th>\n",
       "      <th>timestamp</th>\n",
       "    </tr>\n",
       "  </thead>\n",
       "  <tbody>\n",
       "    <tr>\n",
       "      <th>56349</th>\n",
       "      <td>372</td>\n",
       "      <td>1479</td>\n",
       "      <td>3.0</td>\n",
       "      <td>874414521</td>\n",
       "    </tr>\n",
       "    <tr>\n",
       "      <th>21700</th>\n",
       "      <td>141</td>\n",
       "      <td>296</td>\n",
       "      <td>4.0</td>\n",
       "      <td>1513130625</td>\n",
       "    </tr>\n",
       "    <tr>\n",
       "      <th>22080</th>\n",
       "      <td>144</td>\n",
       "      <td>5377</td>\n",
       "      <td>3.0</td>\n",
       "      <td>1136812901</td>\n",
       "    </tr>\n",
       "  </tbody>\n",
       "</table>\n",
       "</div>"
      ],
      "text/plain": [
       "       userId  movieId  rating   timestamp\n",
       "56349     372     1479     3.0   874414521\n",
       "21700     141      296     4.0  1513130625\n",
       "22080     144     5377     3.0  1136812901"
      ]
     },
     "execution_count": 3,
     "metadata": {},
     "output_type": "execute_result"
    }
   ],
   "source": [
    "ratings = pd.read_csv('ratings.csv')\n",
    "ratings.sample(3)"
   ]
  },
  {
   "cell_type": "markdown",
   "metadata": {},
   "source": [
    "## Subset for user 2"
   ]
  },
  {
   "cell_type": "code",
   "execution_count": 4,
   "metadata": {},
   "outputs": [
    {
     "data": {
      "text/html": [
       "<div>\n",
       "<style scoped>\n",
       "    .dataframe tbody tr th:only-of-type {\n",
       "        vertical-align: middle;\n",
       "    }\n",
       "\n",
       "    .dataframe tbody tr th {\n",
       "        vertical-align: top;\n",
       "    }\n",
       "\n",
       "    .dataframe thead th {\n",
       "        text-align: right;\n",
       "    }\n",
       "</style>\n",
       "<table border=\"1\" class=\"dataframe\">\n",
       "  <thead>\n",
       "    <tr style=\"text-align: right;\">\n",
       "      <th></th>\n",
       "      <th>userId</th>\n",
       "      <th>movieId</th>\n",
       "      <th>rating</th>\n",
       "      <th>timestamp</th>\n",
       "    </tr>\n",
       "  </thead>\n",
       "  <tbody>\n",
       "    <tr>\n",
       "      <th>232</th>\n",
       "      <td>2</td>\n",
       "      <td>318</td>\n",
       "      <td>3.0</td>\n",
       "      <td>1445714835</td>\n",
       "    </tr>\n",
       "    <tr>\n",
       "      <th>233</th>\n",
       "      <td>2</td>\n",
       "      <td>333</td>\n",
       "      <td>4.0</td>\n",
       "      <td>1445715029</td>\n",
       "    </tr>\n",
       "    <tr>\n",
       "      <th>234</th>\n",
       "      <td>2</td>\n",
       "      <td>1704</td>\n",
       "      <td>4.5</td>\n",
       "      <td>1445715228</td>\n",
       "    </tr>\n",
       "    <tr>\n",
       "      <th>235</th>\n",
       "      <td>2</td>\n",
       "      <td>3578</td>\n",
       "      <td>4.0</td>\n",
       "      <td>1445714885</td>\n",
       "    </tr>\n",
       "    <tr>\n",
       "      <th>236</th>\n",
       "      <td>2</td>\n",
       "      <td>6874</td>\n",
       "      <td>4.0</td>\n",
       "      <td>1445714952</td>\n",
       "    </tr>\n",
       "    <tr>\n",
       "      <th>237</th>\n",
       "      <td>2</td>\n",
       "      <td>8798</td>\n",
       "      <td>3.5</td>\n",
       "      <td>1445714960</td>\n",
       "    </tr>\n",
       "    <tr>\n",
       "      <th>238</th>\n",
       "      <td>2</td>\n",
       "      <td>46970</td>\n",
       "      <td>4.0</td>\n",
       "      <td>1445715013</td>\n",
       "    </tr>\n",
       "    <tr>\n",
       "      <th>239</th>\n",
       "      <td>2</td>\n",
       "      <td>48516</td>\n",
       "      <td>4.0</td>\n",
       "      <td>1445715064</td>\n",
       "    </tr>\n",
       "    <tr>\n",
       "      <th>240</th>\n",
       "      <td>2</td>\n",
       "      <td>58559</td>\n",
       "      <td>4.5</td>\n",
       "      <td>1445715141</td>\n",
       "    </tr>\n",
       "    <tr>\n",
       "      <th>241</th>\n",
       "      <td>2</td>\n",
       "      <td>60756</td>\n",
       "      <td>5.0</td>\n",
       "      <td>1445714980</td>\n",
       "    </tr>\n",
       "    <tr>\n",
       "      <th>242</th>\n",
       "      <td>2</td>\n",
       "      <td>68157</td>\n",
       "      <td>4.5</td>\n",
       "      <td>1445715154</td>\n",
       "    </tr>\n",
       "    <tr>\n",
       "      <th>243</th>\n",
       "      <td>2</td>\n",
       "      <td>71535</td>\n",
       "      <td>3.0</td>\n",
       "      <td>1445714974</td>\n",
       "    </tr>\n",
       "    <tr>\n",
       "      <th>244</th>\n",
       "      <td>2</td>\n",
       "      <td>74458</td>\n",
       "      <td>4.0</td>\n",
       "      <td>1445714926</td>\n",
       "    </tr>\n",
       "    <tr>\n",
       "      <th>245</th>\n",
       "      <td>2</td>\n",
       "      <td>77455</td>\n",
       "      <td>3.0</td>\n",
       "      <td>1445714941</td>\n",
       "    </tr>\n",
       "    <tr>\n",
       "      <th>246</th>\n",
       "      <td>2</td>\n",
       "      <td>79132</td>\n",
       "      <td>4.0</td>\n",
       "      <td>1445714841</td>\n",
       "    </tr>\n",
       "    <tr>\n",
       "      <th>247</th>\n",
       "      <td>2</td>\n",
       "      <td>80489</td>\n",
       "      <td>4.5</td>\n",
       "      <td>1445715340</td>\n",
       "    </tr>\n",
       "    <tr>\n",
       "      <th>248</th>\n",
       "      <td>2</td>\n",
       "      <td>80906</td>\n",
       "      <td>5.0</td>\n",
       "      <td>1445715172</td>\n",
       "    </tr>\n",
       "    <tr>\n",
       "      <th>249</th>\n",
       "      <td>2</td>\n",
       "      <td>86345</td>\n",
       "      <td>4.0</td>\n",
       "      <td>1445715166</td>\n",
       "    </tr>\n",
       "    <tr>\n",
       "      <th>250</th>\n",
       "      <td>2</td>\n",
       "      <td>89774</td>\n",
       "      <td>5.0</td>\n",
       "      <td>1445715189</td>\n",
       "    </tr>\n",
       "    <tr>\n",
       "      <th>251</th>\n",
       "      <td>2</td>\n",
       "      <td>91529</td>\n",
       "      <td>3.5</td>\n",
       "      <td>1445714891</td>\n",
       "    </tr>\n",
       "    <tr>\n",
       "      <th>252</th>\n",
       "      <td>2</td>\n",
       "      <td>91658</td>\n",
       "      <td>2.5</td>\n",
       "      <td>1445714938</td>\n",
       "    </tr>\n",
       "    <tr>\n",
       "      <th>253</th>\n",
       "      <td>2</td>\n",
       "      <td>99114</td>\n",
       "      <td>3.5</td>\n",
       "      <td>1445714874</td>\n",
       "    </tr>\n",
       "    <tr>\n",
       "      <th>254</th>\n",
       "      <td>2</td>\n",
       "      <td>106782</td>\n",
       "      <td>5.0</td>\n",
       "      <td>1445714966</td>\n",
       "    </tr>\n",
       "    <tr>\n",
       "      <th>255</th>\n",
       "      <td>2</td>\n",
       "      <td>109487</td>\n",
       "      <td>3.0</td>\n",
       "      <td>1445715145</td>\n",
       "    </tr>\n",
       "    <tr>\n",
       "      <th>256</th>\n",
       "      <td>2</td>\n",
       "      <td>112552</td>\n",
       "      <td>4.0</td>\n",
       "      <td>1445714882</td>\n",
       "    </tr>\n",
       "    <tr>\n",
       "      <th>257</th>\n",
       "      <td>2</td>\n",
       "      <td>114060</td>\n",
       "      <td>2.0</td>\n",
       "      <td>1445715276</td>\n",
       "    </tr>\n",
       "    <tr>\n",
       "      <th>258</th>\n",
       "      <td>2</td>\n",
       "      <td>115713</td>\n",
       "      <td>3.5</td>\n",
       "      <td>1445714854</td>\n",
       "    </tr>\n",
       "    <tr>\n",
       "      <th>259</th>\n",
       "      <td>2</td>\n",
       "      <td>122882</td>\n",
       "      <td>5.0</td>\n",
       "      <td>1445715272</td>\n",
       "    </tr>\n",
       "    <tr>\n",
       "      <th>260</th>\n",
       "      <td>2</td>\n",
       "      <td>131724</td>\n",
       "      <td>5.0</td>\n",
       "      <td>1445714851</td>\n",
       "    </tr>\n",
       "  </tbody>\n",
       "</table>\n",
       "</div>"
      ],
      "text/plain": [
       "     userId  movieId  rating   timestamp\n",
       "232       2      318     3.0  1445714835\n",
       "233       2      333     4.0  1445715029\n",
       "234       2     1704     4.5  1445715228\n",
       "235       2     3578     4.0  1445714885\n",
       "236       2     6874     4.0  1445714952\n",
       "237       2     8798     3.5  1445714960\n",
       "238       2    46970     4.0  1445715013\n",
       "239       2    48516     4.0  1445715064\n",
       "240       2    58559     4.5  1445715141\n",
       "241       2    60756     5.0  1445714980\n",
       "242       2    68157     4.5  1445715154\n",
       "243       2    71535     3.0  1445714974\n",
       "244       2    74458     4.0  1445714926\n",
       "245       2    77455     3.0  1445714941\n",
       "246       2    79132     4.0  1445714841\n",
       "247       2    80489     4.5  1445715340\n",
       "248       2    80906     5.0  1445715172\n",
       "249       2    86345     4.0  1445715166\n",
       "250       2    89774     5.0  1445715189\n",
       "251       2    91529     3.5  1445714891\n",
       "252       2    91658     2.5  1445714938\n",
       "253       2    99114     3.5  1445714874\n",
       "254       2   106782     5.0  1445714966\n",
       "255       2   109487     3.0  1445715145\n",
       "256       2   112552     4.0  1445714882\n",
       "257       2   114060     2.0  1445715276\n",
       "258       2   115713     3.5  1445714854\n",
       "259       2   122882     5.0  1445715272\n",
       "260       2   131724     5.0  1445714851"
      ]
     },
     "execution_count": 4,
     "metadata": {},
     "output_type": "execute_result"
    }
   ],
   "source": [
    "user_2_ratings = ratings[ratings['userId'] == 2]\n",
    "user_2_ratings"
   ]
  },
  {
   "cell_type": "markdown",
   "metadata": {},
   "source": [
    "The output is showing the ratings given by User 2 for various movies. Each row corresponds to a movie rated by User 2, indicating the movieId, rating, and timestamp of each rating."
   ]
  },
  {
   "cell_type": "markdown",
   "metadata": {},
   "source": [
    "## 1. Movies user2 has watched"
   ]
  },
  {
   "cell_type": "code",
   "execution_count": 5,
   "metadata": {},
   "outputs": [
    {
     "name": "stdout",
     "output_type": "stream",
     "text": [
      "User 2 has watched 29 movies.\n"
     ]
    }
   ],
   "source": [
    "num_movies_watched = len(user_2_ratings)\n",
    "print(f\"User 2 has watched {num_movies_watched} movies.\")"
   ]
  },
  {
   "cell_type": "markdown",
   "metadata": {},
   "source": [
    "## 2. Bar chart for user 2's movie ratings"
   ]
  },
  {
   "cell_type": "code",
   "execution_count": 6,
   "metadata": {},
   "outputs": [
    {
     "data": {
      "image/png": "[encoded data removed]",
      "text/plain": [
       "<Figure size 640x480 with 1 Axes>"
      ]
     },
     "metadata": {},
     "output_type": "display_data"
    }
   ],
   "source": [
    "rating_counts = user_2_ratings['rating'].value_counts().sort_index()\n",
    "rating_counts.plot(kind='bar', color='skyblue')\n",
    "plt.xlabel('Rating')\n",
    "plt.ylabel('Count')\n",
    "plt.title('Movie Ratings for User 2')\n",
    "plt.show()"
   ]
  },
  {
   "cell_type": "markdown",
   "metadata": {},
   "source": [
    "\n",
    "`rating_counts = user_2_ratings['rating'].value_counts().sort_index()` \n",
    "\n",
    "This line calculates the count of each unique rating given by User 2. It uses the value_counts() function to count occurrences of each unique rating in the 'rating' column of the user_2_ratings DataFrame. The sort_index() function is then used to sort the unique ratings in ascending order.\n",
    "\n",
    "`rating_counts.plot(kind='bar', color='skyblue')` \n",
    "\n",
    "We create a bar chart using the plot() function. The kind='bar' parameter specifies that a bar chart should be created. The color='skyblue' parameter sets the color of the bars to sky blue.\n",
    "\n",
    "`plt.xlabel('Rating')` \n",
    "\n",
    "Adds a label to the x-axis of the plot, indicating that it represents the different movie ratings.\n",
    "\n",
    "`plt.ylabel('Count')` \n",
    "\n",
    "Adds a label to the y-axis of the plot, indicating that it represents the count of movies for each rating.\n",
    "\n",
    "`plt.title('Movie Ratings for User 2')` \n",
    "\n",
    "Here we set the title of the plot to 'Movie Ratings for User 2'.\n",
    "\n",
    "`plt.show()` -  display the plot.\n",
    "\n",
    "The bar chart visually represents the distribution of movie ratings given by User 2. Each bar on the chart corresponds to a unique movie rating, and the height of the bar represents the count of movies that received that rating from User 2. The x-axis shows the different ratings, and the y-axis shows the count of movies for each rating."
   ]
  },
  {
   "cell_type": "markdown",
   "metadata": {},
   "source": [
    "## 3. User 2's top movies"
   ]
  },
  {
   "cell_type": "code",
   "execution_count": 7,
   "metadata": {},
   "outputs": [
    {
     "name": "stdout",
     "output_type": "stream",
     "text": [
      "User 2's top movies:\n",
      "                                                title  rating\n",
      "28  The Jinx: The Life and Deaths of Robert Durst ...     5.0\n",
      "27                          Mad Max: Fury Road (2015)     5.0\n",
      "22                    Wolf of Wall Street, The (2013)     5.0\n",
      "18                                     Warrior (2011)     5.0\n",
      "9                                Step Brothers (2008)     5.0\n"
     ]
    }
   ],
   "source": [
    "user_2_top_movies = user_2_ratings.merge(movies, on='movieId')[['title', 'rating']].sort_values(by='rating', ascending=False)\n",
    "print(\"User 2's top movies:\")\n",
    "print(user_2_top_movies.head())"
   ]
  },
  {
   "cell_type": "markdown",
   "metadata": {},
   "source": [
    "## 4. Most similar user to user 2 using cosine and manhattan distances"
   ]
  },
  {
   "cell_type": "code",
   "execution_count": 8,
   "metadata": {},
   "outputs": [],
   "source": [
    "user_2_vector = user_2_ratings.pivot(index='userId', columns='movieId', values='rating').fillna(0)\n",
    "all_users_vector = ratings.pivot(index='userId', columns='movieId', values='rating').fillna(0)"
   ]
  },
  {
   "cell_type": "markdown",
   "metadata": {},
   "source": [
    "## Ensuring both user vectors have the same columns"
   ]
  },
  {
   "cell_type": "code",
   "execution_count": 9,
   "metadata": {},
   "outputs": [],
   "source": [
    "common_columns = user_2_vector.columns.intersection(all_users_vector.columns)\n",
    "\n",
    "user_2_vector = user_2_vector[common_columns]\n",
    "all_users_vector = all_users_vector[common_columns]"
   ]
  },
  {
   "cell_type": "markdown",
   "metadata": {},
   "source": [
    "## Use the distances"
   ]
  },
  {
   "cell_type": "code",
   "execution_count": 10,
   "metadata": {},
   "outputs": [],
   "source": [
    "cosine_similarities = cosine_similarity(user_2_vector, all_users_vector)\n",
    "manhattan_distances = pairwise_distances(user_2_vector, all_users_vector, metric='manhattan')"
   ]
  },
  {
   "cell_type": "markdown",
   "metadata": {},
   "source": [
    "## Display results"
   ]
  },
  {
   "cell_type": "code",
   "execution_count": 11,
   "metadata": {},
   "outputs": [
    {
     "name": "stdout",
     "output_type": "stream",
     "text": [
      "Most similar user to User 2 (cosine): [[0.26086186 1.         0.         0.20751434 0.13834289 0.22825413\n",
      "  0.24495082 0.13834289 0.         0.35144117 0.24455799 0.\n",
      "  0.18445719 0.13834289 0.49455168 0.39615764 0.43027895 0.77644315\n",
      "  0.2557961  0.18445719 0.60584711 0.46293651 0.18445719 0.48089623\n",
      "  0.46106757 0.         0.         0.47295934 0.38972905 0.37121293\n",
      "  0.         0.13834289 0.24846359 0.23045899 0.         0.23518292\n",
      "  0.13834289 0.13834289 0.         0.13834289 0.58971767 0.35410056\n",
      "  0.13834289 0.         0.33206224 0.13834289 0.33328977 0.\n",
      "  0.26687054 0.61863671 0.26809823 0.55354535 0.         0.13834289\n",
      "  0.18445719 0.22134863 0.27207436 0.22825413 0.         0.24846359\n",
      "  0.22325714 0.77977403 0.57293207 0.38879219 0.46973355 0.39010257\n",
      "  0.3432886  0.83476077 0.22825413 0.24455799 0.         0.13834289\n",
      "  0.60259073 0.18445719 0.         0.49600239 0.34992614 0.13834289\n",
      "  0.18445719 0.53635901 0.13834289 0.18445719 0.38615679 0.13834289\n",
      "  0.20751434 0.35609211 0.         0.44953772 0.13834289 0.\n",
      "  0.38974874 0.         0.24846359 0.13834289 0.         0.18445719\n",
      "  0.18445719 0.35138059 0.22825413 0.         0.18445719 0.13834289\n",
      "  0.67971357 0.         0.79538375 0.13834289 0.13834289 0.\n",
      "  0.13834289 0.         0.76533592 0.43129063 0.         0.31974512\n",
      "  0.18445719 0.27300317 0.21353049 0.         0.67217531 0.\n",
      "  0.13834289 0.65273801 0.41003535 0.13834289 0.65606915 0.13834289\n",
      "  0.         0.         0.26086186 0.13834289 0.39079356 0.48317866\n",
      "  0.13834289 0.         0.19695383 0.18445719 0.22825413 0.\n",
      "  0.4663538  0.42161507 0.5518402  0.         0.22685235 0.18445719\n",
      "  0.13834289 0.         0.         0.28065806 0.         0.\n",
      "  0.         0.45828757 0.35244558 0.30617717 0.26086186 0.30128404\n",
      "  0.         0.         0.37678124 0.18445719 0.13834289 0.13834289\n",
      "  0.20751434 0.18445719 0.         0.42931207 0.13834289 0.20751434\n",
      "  0.28173982 0.13834289 0.13834289 0.18445719 0.         0.18445719\n",
      "  0.         0.13834289 0.65706475 0.13834289 0.13834289 0.\n",
      "  0.         0.39741418 0.         0.45234816 0.         0.18445719\n",
      "  0.28258593 0.         0.43437052 0.35738581 0.13834289 0.\n",
      "  0.13834289 0.         0.29929141 0.30977174 0.13834289 0.29346959\n",
      "  0.37298329 0.44711516 0.         0.13834289 0.25616126 0.35254487\n",
      "  0.31748392 0.         0.         0.         0.46647338 0.20751434\n",
      "  0.48502631 0.63712365 0.20751434 0.         0.24164924 0.18445719\n",
      "  0.         0.         0.48983055 0.36719262 0.13834289 0.62811663\n",
      "  0.40734296 0.         0.18445719 0.45550032 0.62822688 0.13834289\n",
      "  0.13834289 0.35200082 0.30296944 0.59471542 0.63839333 0.\n",
      "  0.13834289 0.         0.33581513 0.         0.47763126 0.22934757\n",
      "  0.41118582 0.13834289 0.         0.18445719 0.         0.36879624\n",
      "  0.6977416  0.20751434 0.82339478 0.13834289 0.24455799 0.18445719\n",
      "  0.         0.34659106 0.         0.47411066 0.         0.13834289\n",
      "  0.         0.24347427 0.39053846 0.13834289 0.24455799 0.18445719\n",
      "  0.13834289 0.         0.18445719 0.20751434 0.         0.\n",
      "  0.         0.25180416 0.         0.72351453 0.30617717 0.18445719\n",
      "  0.         0.13834289 0.70376786 0.33144012 0.         0.63624856\n",
      "  0.24455799 0.22825413 0.20751434 0.25689247 0.18445719 0.39286742\n",
      "  0.         0.23766083 0.20751434 0.47597877 0.         0.18445719\n",
      "  0.35673856 0.30617717 0.         0.83414426 0.18445719 0.40307602\n",
      "  0.31948923 0.         0.         0.24455799 0.75578313 0.19484292\n",
      "  0.50788978 0.34423393 0.13834289 0.         0.         0.\n",
      "  0.22934757 0.13834289 0.         0.18445719 0.69171446 0.67102847\n",
      "  0.38267884 0.22557955 0.         0.35497272 0.19266935 0.\n",
      "  0.13834289 0.58082836 0.3000034  0.47779536 0.13834289 0.50488132\n",
      "  0.61016953 0.45602509 0.18445719 0.34959159 0.22622482 0.23766083\n",
      "  0.13834289 0.22622482 0.59191141 0.13834289 0.24486267 0.\n",
      "  0.28511644 0.13834289 0.         0.27546733 0.         0.34416734\n",
      "  0.         0.         0.53145804 0.7214811  0.22825413 0.39822899\n",
      "  0.         0.4613716  0.55439421 0.         0.20751434 0.\n",
      "  0.13834289 0.46840006 0.24846359 0.         0.62555243 0.54018706\n",
      "  0.24455799 0.18445719 0.18445719 0.22991761 0.         0.13834289\n",
      "  0.13834289 0.13834289 0.22825413 0.30625026 0.         0.56455746\n",
      "  0.13834289 0.58622459 0.35954901 0.52071514 0.         0.\n",
      "  0.13834289 0.22825413 0.43784064 0.         0.         0.20751434\n",
      "  0.25332902 0.         0.45369696 0.         0.         0.13834289\n",
      "  0.         0.25824007 0.18445719 0.39789582 0.18445719 0.\n",
      "  0.         0.13834289 0.31710049 0.         0.20751434 0.57290041\n",
      "  0.13834289 0.13834289 0.13834289 0.         0.38162752 0.81285723\n",
      "  0.42815419 0.2300827  0.63797738 0.35392682 0.50152921 0.28804078\n",
      "  0.13834289 0.13834289 0.13834289 0.65784851 0.42535965 0.13834289\n",
      "  0.18445719 0.2557961  0.         0.13834289 0.         0.51487694\n",
      "  0.39686301 0.54698899 0.51016418 0.22134863 0.13834289 0.42877776\n",
      "  0.13834289 0.         0.42069787 0.         0.26327685 0.13834289\n",
      "  0.42978741 0.         0.13834289 0.83317362 0.13834289 0.\n",
      "  0.         0.18445719 0.29117315 0.18445719 0.13834289 0.\n",
      "  0.18445719 0.         0.36726586 0.44527091 0.43088789 0.41789961\n",
      "  0.         0.4423443  0.         0.45767134 0.         0.13834289\n",
      "  0.2253933  0.13834289 0.27716573 0.34585723 0.13834289 0.42172618\n",
      "  0.44018307 0.13834289 0.57983571 0.         0.         0.46685142\n",
      "  0.         0.         0.59857647 0.51488916 0.         0.13834289\n",
      "  0.37460742 0.23766083 0.4443302  0.39400306 0.23057149 0.\n",
      "  0.18445719 0.18445719 0.81009624 0.20751434 0.41046935 0.22825413\n",
      "  0.         0.         0.         0.13834289 0.35743337 0.\n",
      "  0.13834289 0.21911417 0.         0.         0.5018984  0.\n",
      "  0.43950173 0.13834289 0.13834289 0.61478442 0.43299991 0.\n",
      "  0.29097047 0.         0.24455799 0.30197878 0.         0.6123471\n",
      "  0.49674264 0.13834289 0.55185926 0.26086186 0.         0.56799016\n",
      "  0.         0.         0.         0.23518292 0.18445719 0.52396154\n",
      "  0.         0.         0.50577508 0.20751434 0.19444977 0.18445719\n",
      "  0.13834289 0.27268144 0.26086186 0.         0.         0.\n",
      "  0.         0.33291319 0.35647306 0.47902654 0.42264638 0.20751434\n",
      "  0.27367005 0.         0.22825413 0.         0.13834289 0.\n",
      "  0.19695383 0.75058407 0.71108708 0.48757338 0.18445719 0.41130484\n",
      "  0.13834289 0.13834289 0.51858499 0.         0.         0.35429365\n",
      "  0.         0.24455799 0.68036964 0.13834289 0.         0.\n",
      "  0.13834289 0.         0.         0.43018733 0.37715714 0.51372095\n",
      "  0.26086186 0.         0.43095879 0.48046792 0.         0.22325714\n",
      "  0.13834289 0.48140573 0.18445719 0.22134863 0.29426159 0.18445719\n",
      "  0.         0.61198145 0.20751434 0.18445719 0.84138527 0.30503688\n",
      "  0.59331773 0.13834289 0.27207436 0.         0.         0.40268434\n",
      "  0.13834289 0.43193285 0.13834289 0.75986137]]\n",
      "Most similar user to User 2 (manhattan): [[108.5   0.  114.5 113.5 111.5 110.5 109.5 113.5 114.5 102.5 108.5 114.5\n",
      "  111.5 111.5  93.   99.   95.   56.  109.5 111.   80.5  93.  111.5  91.\n",
      "   95.  114.5 114.5  91.5 100.  103.5 114.5 113.5 108.5 109.5 114.5 109.5\n",
      "  112.5 113.5 114.5 113.5  83.5 102.5 112.5 114.5 103.5 112.5 103.5 114.5\n",
      "  107.5  84.  108.5  85.  114.5 112.5 111.5 109.5 107.5 110.5 114.5 108.5\n",
      "  109.5  57.   82.5  98.5  92.  100.  102.   48.5 110.5 108.5 114.5 113.5\n",
      "   81.5 111.5 114.5  87.5 103.  113.  112.5  86.5 111.5 111.  101.  113.5\n",
      "  111.5 100.5 114.5  94.  112.  114.5  99.5 114.5 108.5 113.5 114.5 110.5\n",
      "  110.5 102.5 110.5 114.5 110.5 112.5  71.5 114.5  53.5 113.5 113.5 114.5\n",
      "  113.5 114.5  56.   96.5 114.5 107.  111.5 107.5 110.5 114.5  69.  114.5\n",
      "  113.5  74.5  97.  113.   72.  113.5 114.5 114.5 107.5 113.5  98.   93.5\n",
      "  112.5 114.5 111.5 111.5 108.5 114.5  96.5  96.   85.  114.5 111.5 110.5\n",
      "  111.5 114.5 114.5 109.  114.5 114.5 114.5  93.  106.5 106.5 106.5 105.5\n",
      "  114.5 114.5 103.  111.5 113.5 113.5 110.5 111.5 114.5  96.5 113.5 110.5\n",
      "  107.  113.5 113.5 110.5 114.5 110.5 114.5 113.5  72.  113.5 113.5 114.5\n",
      "  114.5  98.  114.5  95.  114.5 110.5 105.5 114.5  93.5 100.5 112.5 114.5\n",
      "  112.  114.5 105.5 105.  112.5 106.5 100.   94.5 114.5 112.5 108.5 103.\n",
      "  104.5 114.5 114.5 114.5  92.5 110.5  92.5  75.  110.  114.5 109.  110.5\n",
      "  114.5 114.5  91.5 101.5 112.5  75.5  97.5 114.5 111.5  93.   74.5 112.5\n",
      "  113.5 103.5 105.5  81.   72.5 114.5 112.5 114.5 104.5 114.5  91.  108.5\n",
      "   97.5 112.5 114.5 111.5 114.5 101.5  65.  112.   49.5 113.5 109.5 111.\n",
      "  114.5 103.5 114.5  93.5 114.5 113.5 114.5 109.   99.  111.5 109.5 112.5\n",
      "  112.5 114.5 111.5 111.5 114.5 114.5 114.5 106.5 114.5  62.  104.5 111.5\n",
      "  114.5 113.5  64.5 103.  114.5  75.  109.5 108.5 110.5 108.  112.   99.5\n",
      "  114.5 109.5 110.5  94.  114.5 113.5 103.  106.5 114.5  50.5 111.5  97.5\n",
      "  104.  114.5 114.5 108.5  63.  109.   89.5 104.5 112.5 114.5 114.5 114.5\n",
      "  108.5 113.5 114.5 110.5  66.5  72.  102.  109.  114.5 101.  111.  114.5\n",
      "  113.5  80.  106.   94.5 112.5  90.5  79.5  93.  110.5 102.5 110.  109.5\n",
      "  113.5 110.   81.5 113.5 108.5 114.5 106.5 113.5 114.5 107.  114.5 103.5\n",
      "  114.5 114.5  88.   65.5 110.5  98.  114.5  93.5  81.5 114.5 110.  114.5\n",
      "  111.5  90.5 108.5 114.5  79.   85.  109.5 111.5 111.  108.  114.5 113.5\n",
      "  113.5 112.5 110.5 103.5 114.5  82.  111.5  78.5 101.   90.  114.5 114.5\n",
      "  113.5 108.5  94.5 114.5 114.5 112.  109.5 114.5  94.5 114.5 114.5 113.\n",
      "  114.5 107.5 111.5  98.  111.5 114.5 114.5 112.5 104.  114.5 110.5  82.5\n",
      "  112.5 113.5 112.5 114.5 102.   52.   96.  108.   75.5 101.5  91.5 105.5\n",
      "  113.5 113.5 113.5  73.5  96.  112.  110.5 108.  114.5 113.5 114.5  87.5\n",
      "   98.5  84.   89.  109.5 113.5  96.  113.5 114.5  98.  114.5 108.5 112.5\n",
      "   96.  114.5 113.5  44.  113.5 114.5 114.5 110.5 107.5 111.  113.5 114.5\n",
      "  111.5 114.5 101.   95.   96.5 100.  114.5  96.  114.5  91.5 114.5 111.5\n",
      "  110.5 112.5 106.5 104.5 113.5  95.5  96.  113.5  82.5 114.5 114.5  92.5\n",
      "  114.5 114.5  79.5  89.5 114.5 113.5 100.  109.5  96.   97.5 110.  114.5\n",
      "  111.5 111.5  53.5 110.   98.5 110.5 114.5 114.5 114.5 113.5 100.5 114.5\n",
      "  112.5 110.  114.5 114.5  89.  114.5  97.5 113.5 113.5  77.   98.5 114.5\n",
      "  108.  114.5 109.5 105.  114.5  78.5  92.5 113.5  82.5 108.5 114.5  84.5\n",
      "  114.5 114.5 114.5 109.5 110.5  88.5 114.5 114.5  90.  110.  111.5 111.5\n",
      "  112.5 107.5 107.5 114.5 114.5 114.5 114.5 103.  102.5  94.5  96.5 110.5\n",
      "  107.5 114.5 110.5 114.5 113.  114.5 111.5  56.5  64.   91.5 111.   97.5\n",
      "  112.5 113.5  91.5 114.5 114.5 101.5 114.5 109.5  70.5 113.5 114.5 114.5\n",
      "  113.5 114.5 114.5  95.5 101.   87.5 108.5 114.5  96.   92.5 114.5 109.5\n",
      "  113.5  90.  111.5 109.5 107.  111.  114.5  76.  110.5 111.5  46.5 105.\n",
      "   81.  113.5 107.5 114.5 114.5  97.  113.5  93.5 112.5  55. ]]\n"
     ]
    }
   ],
   "source": [
    "\n",
    "print(f\"Most similar user to User 2 (cosine): {cosine_similarities}\")\n",
    "print(f\"Most similar user to User 2 (manhattan): {manhattan_distances}\")\n"
   ]
  },
  {
   "cell_type": "markdown",
   "metadata": {},
   "source": [
    "This output shows the similarity scores between User 2 and all other users in the dataset using cosine similarity and Manhattan distance. Each row corresponds to a user in the dataset.\n",
    "\n",
    "**Cosine Similarity**\n",
    "\n",
    "The values range between 0 and 1, where 1 indicates perfect similarity.\n",
    "For each user, the cosine similarity score indicates how similar their movie preferences are to User 2.\n",
    "The most similar user to User 2 has the highest cosine similarity score (closest to 1).\n",
    "\n",
    "**Manhattan Distance**\n",
    "\n",
    "The values represent the Manhattan distance between the feature vectors of User 2 and other users.\n",
    "Smaller values suggest greater similarity.\n",
    "The most similar user to User 2 has the lowest Manhattan distance.\n"
   ]
  },
  {
   "cell_type": "markdown",
   "metadata": {},
   "source": [
    "## 5. Recommend movies for user 2 using cosine similarity"
   ]
  },
  {
   "cell_type": "code",
   "execution_count": 12,
   "metadata": {},
   "outputs": [
    {
     "name": "stdout",
     "output_type": "stream",
     "text": [
      "Most similar user to User 2 (cosine): User 599 with similarity score 0.8413852739119481\n"
     ]
    }
   ],
   "source": [
    "import numpy as np\n",
    "\n",
    "# Exclude User 2 from the calculation\n",
    "cosine_similarities[:, 1] = -1 \n",
    "manhattan_distances[:, 1] = np.inf \n",
    "\n",
    "# index of the most similar user using cosine similarity\n",
    "most_similar_cosine_index = np.argmax(cosine_similarities)\n",
    "most_similar_cosine_score = cosine_similarities[0, most_similar_cosine_index]\n",
    "\n",
    "print(f\"Most similar user to User 2 (cosine): User {most_similar_cosine_index + 1} with similarity score {most_similar_cosine_score}\")\n"
   ]
  },
  {
   "cell_type": "code",
   "execution_count": 13,
   "metadata": {},
   "outputs": [
    {
     "name": "stdout",
     "output_type": "stream",
     "text": [
      "Most similar user to User 2 (manhattan): User 448 with distance 44.0\n"
     ]
    }
   ],
   "source": [
    "# index of the most similar user using Manhattan distance\n",
    "most_similar_manhattan_index = np.argmin(manhattan_distances)\n",
    "most_similar_manhattan_distance = manhattan_distances[0, most_similar_manhattan_index]\n",
    "\n",
    "print(f\"Most similar user to User 2 (manhattan): User {most_similar_manhattan_index + 1} with distance {most_similar_manhattan_distance}\")"
   ]
  },
  {
   "cell_type": "markdown",
   "metadata": {},
   "source": [
    "## movies rated by the most similar user"
   ]
  },
  {
   "cell_type": "code",
   "execution_count": 14,
   "metadata": {},
   "outputs": [
    {
     "name": "stdout",
     "output_type": "stream",
     "text": [
      "Movies rated by the most similar user:\n",
      "    movieId                                              title  userId  \\\n",
      "0       318                   Shawshank Redemption, The (1994)     599   \n",
      "1       333                                   Tommy Boy (1995)     599   \n",
      "2      1704                           Good Will Hunting (1997)     599   \n",
      "3      3578                                   Gladiator (2000)     599   \n",
      "4      6874                           Kill Bill: Vol. 1 (2003)     599   \n",
      "5      8798                                  Collateral (2004)     599   \n",
      "6     46970  Talladega Nights: The Ballad of Ricky Bobby (2...     599   \n",
      "7     48516                               Departed, The (2006)     599   \n",
      "8     58559                            Dark Knight, The (2008)     599   \n",
      "9     60756                               Step Brothers (2008)     599   \n",
      "10    68157                        Inglourious Basterds (2009)     599   \n",
      "11    71535                                  Zombieland (2009)     599   \n",
      "12    77455                  Exit Through the Gift Shop (2010)     599   \n",
      "13    80489                                   Town, The (2010)     599   \n",
      "14    91529                      Dark Knight Rises, The (2012)     599   \n",
      "15    99114                            Django Unchained (2012)     599   \n",
      "16   106782                    Wolf of Wall Street, The (2013)     599   \n",
      "17   109487                                Interstellar (2014)     599   \n",
      "18   112552                                    Whiplash (2014)     599   \n",
      "19   115713                                  Ex Machina (2015)     599   \n",
      "20   122882                          Mad Max: Fury Road (2015)     599   \n",
      "\n",
      "    user_rating   timestamp  \n",
      "0           4.0  1498498867  \n",
      "1           2.5  1498516187  \n",
      "2           4.5  1498762601  \n",
      "3           3.5  1498501113  \n",
      "4           5.0  1498457174  \n",
      "5           3.0  1498523618  \n",
      "6           2.5  1498514842  \n",
      "7           3.0  1498522886  \n",
      "8           3.5  1498798185  \n",
      "9           2.5  1498515769  \n",
      "10          3.5  1498500693  \n",
      "11          3.0  1498524922  \n",
      "12          3.5  1498542480  \n",
      "13          3.5  1498542459  \n",
      "14          3.0  1498527139  \n",
      "15          3.5  1498528776  \n",
      "16          3.0  1498528478  \n",
      "17          3.5  1498532289  \n",
      "18          3.0  1498589282  \n",
      "19          3.5  1498528866  \n",
      "20          4.0  1498854698  \n"
     ]
    }
   ],
   "source": [
    "user_2_recommended_movies = all_users_vector.loc[most_similar_cosine_index]\n",
    "\n",
    "movies_not_rated_by_user_2 = user_2_recommended_movies[user_2_recommended_movies == 0].index\n",
    "\n",
    "# Extract recommended movies information\n",
    "recommended_movies_info = movies[movies['movieId'].isin(movies_not_rated_by_user_2)]\n",
    "recommended_movies_info = recommended_movies_info[['movieId', 'title']].merge(ratings[ratings['userId'] == most_similar_cosine_index + 1], on='movieId')\n",
    "recommended_movies_info = recommended_movies_info.rename(columns={'rating': 'user_rating'})\n",
    "\n",
    "print(\"Movies rated by the most similar user:\")\n",
    "print(recommended_movies_info)\n"
   ]
  },
  {
   "cell_type": "markdown",
   "metadata": {},
   "source": [
    "## Identify movies not yet rated by User 2"
   ]
  },
  {
   "cell_type": "code",
   "execution_count": 15,
   "metadata": {},
   "outputs": [
    {
     "name": "stdout",
     "output_type": "stream",
     "text": [
      "Movies not yet rated by User 2:\n",
      "      movieId                                              title  \\\n",
      "277       318                   Shawshank Redemption, The (1994)   \n",
      "291       333                                   Tommy Boy (1995)   \n",
      "1284     1704                           Good Will Hunting (1997)   \n",
      "2674     3578                                   Gladiator (2000)   \n",
      "4615     6874                           Kill Bill: Vol. 1 (2003)   \n",
      "5305     8798                                  Collateral (2004)   \n",
      "6253    46970  Talladega Nights: The Ballad of Ricky Bobby (2...   \n",
      "6315    48516                               Departed, The (2006)   \n",
      "6710    58559                            Dark Knight, The (2008)   \n",
      "6801    60756                               Step Brothers (2008)   \n",
      "7010    68157                        Inglourious Basterds (2009)   \n",
      "7154    71535                                  Zombieland (2009)   \n",
      "7258    74458                              Shutter Island (2010)   \n",
      "7323    77455                  Exit Through the Gift Shop (2010)   \n",
      "7415    80489                                   Town, The (2010)   \n",
      "7436    80906                                  Inside Job (2010)   \n",
      "7590    86345                       Louis C.K.: Hilarious (2010)   \n",
      "7697    89774                                     Warrior (2011)   \n",
      "7768    91529                      Dark Knight Rises, The (2012)   \n",
      "7776    91658            Girl with the Dragon Tattoo, The (2011)   \n",
      "8063    99114                            Django Unchained (2012)   \n",
      "8305   106782                    Wolf of Wall Street, The (2013)   \n",
      "8376   109487                                Interstellar (2014)   \n",
      "8466   112552                                    Whiplash (2014)   \n",
      "8509   114060                                    The Drop (2014)   \n",
      "8550   115713                                  Ex Machina (2015)   \n",
      "8681   122882                          Mad Max: Fury Road (2015)   \n",
      "8828   131724  The Jinx: The Life and Deaths of Robert Durst ...   \n",
      "\n",
      "                                genres  \n",
      "277                        Crime|Drama  \n",
      "291                             Comedy  \n",
      "1284                     Drama|Romance  \n",
      "2674            Action|Adventure|Drama  \n",
      "4615             Action|Crime|Thriller  \n",
      "5305       Action|Crime|Drama|Thriller  \n",
      "6253                     Action|Comedy  \n",
      "6315              Crime|Drama|Thriller  \n",
      "6710           Action|Crime|Drama|IMAX  \n",
      "6801                            Comedy  \n",
      "7010                  Action|Drama|War  \n",
      "7154              Action|Comedy|Horror  \n",
      "7258            Drama|Mystery|Thriller  \n",
      "7323                Comedy|Documentary  \n",
      "7415              Crime|Drama|Thriller  \n",
      "7436                       Documentary  \n",
      "7590                            Comedy  \n",
      "7697                             Drama  \n",
      "7768       Action|Adventure|Crime|IMAX  \n",
      "7776                    Drama|Thriller  \n",
      "8063              Action|Drama|Western  \n",
      "8305                Comedy|Crime|Drama  \n",
      "8376                       Sci-Fi|IMAX  \n",
      "8466                             Drama  \n",
      "8509              Crime|Drama|Thriller  \n",
      "8550             Drama|Sci-Fi|Thriller  \n",
      "8681  Action|Adventure|Sci-Fi|Thriller  \n",
      "8828                       Documentary  \n"
     ]
    }
   ],
   "source": [
    "recommended_movies_info = movies[movies['movieId'].isin(user_2_recommended_movies[user_2_recommended_movies == 0].index)]\n",
    "\n",
    "print(\"Movies not yet rated by User 2:\")\n",
    "print(recommended_movies_info)"
   ]
  },
  {
   "cell_type": "markdown",
   "metadata": {},
   "source": [
    "This represents movies that User 2 has not yet rated, and they are recommended based on the preferences of the most similar user. The movies are presented in a DataFrame with columns,\n",
    "`\n",
    "    movieId: The unique identifier for each movie.\n",
    "    title: The title of the movie.\n",
    "    genres: The genre or genres associated with the movie.\n",
    "`\n",
    "\n",
    "How we achieved this\n",
    "\n",
    "Calculate Similarity Scores -  Cosine similarity scores are calculated between User 2 and all other users. The user with the highest similarity score (excluding User 2 itself) is identified.\n",
    "\n",
    "Retrieve Recommended Movies - We then retrieve the movies that were rated by the most similar user but not yet rated by User 2. This is achieved by comparing the movie ratings of User 2 with the most similar user and selecting the movies where User 2 has a rating of 0 (indicating that the movie has not been rated).\n",
    "\n",
    "Get Movie Details - Then we get the details (movieId, title, genres) for each recommended movie from the 'movies' dataset."
   ]
  },
  {
   "cell_type": "markdown",
   "metadata": {},
   "source": [
    "## Retrieve and print recommended movies for User 2"
   ]
  },
  {
   "cell_type": "code",
   "execution_count": 16,
   "metadata": {},
   "outputs": [
    {
     "name": "stdout",
     "output_type": "stream",
     "text": [
      "Recommended movies for User 2:\n",
      "    movieId                              title  \\\n",
      "0       318   Shawshank Redemption, The (1994)   \n",
      "2      1704           Good Will Hunting (1997)   \n",
      "3      3578                   Gladiator (2000)   \n",
      "4      6874           Kill Bill: Vol. 1 (2003)   \n",
      "8     58559            Dark Knight, The (2008)   \n",
      "10    68157        Inglourious Basterds (2009)   \n",
      "13    77455  Exit Through the Gift Shop (2010)   \n",
      "14    80489                   Town, The (2010)   \n",
      "20    99114            Django Unchained (2012)   \n",
      "22   109487                Interstellar (2014)   \n",
      "25   115713                  Ex Machina (2015)   \n",
      "26   122882          Mad Max: Fury Road (2015)   \n",
      "\n",
      "                              genres  rating  \n",
      "0                        Crime|Drama     4.0  \n",
      "2                      Drama|Romance     4.5  \n",
      "3             Action|Adventure|Drama     3.5  \n",
      "4              Action|Crime|Thriller     5.0  \n",
      "8            Action|Crime|Drama|IMAX     3.5  \n",
      "10                  Action|Drama|War     3.5  \n",
      "13                Comedy|Documentary     3.5  \n",
      "14              Crime|Drama|Thriller     3.5  \n",
      "20              Action|Drama|Western     3.5  \n",
      "22                       Sci-Fi|IMAX     3.5  \n",
      "25             Drama|Sci-Fi|Thriller     3.5  \n",
      "26  Action|Adventure|Sci-Fi|Thriller     4.0  \n"
     ]
    }
   ],
   "source": [
    "# Get movies rated by the most similar user but not yet rated by User 2\n",
    "movies_not_rated_by_user_2 = user_2_recommended_movies[user_2_recommended_movies == 0].index\n",
    "\n",
    "# Extract recommended movies information\n",
    "recommended_movies_info = movies[movies['movieId'].isin(movies_not_rated_by_user_2)]\n",
    "\n",
    "# Merge with ratings of the most similar user\n",
    "recommended_movies_info = recommended_movies_info.merge(\n",
    "    ratings[ratings['userId'] == most_similar_cosine_index + 1],\n",
    "    on='movieId',\n",
    "    how='left'\n",
    ")\n",
    "\n",
    "# Filter only movies that are highly rated by the most similar user\n",
    "threshold_rating = 3.5\n",
    "recommended_movies_info = recommended_movies_info[recommended_movies_info['rating'] >= threshold_rating]\n",
    "\n",
    "print(\"Recommended movies for User 2:\")\n",
    "print(recommended_movies_info[['movieId', 'title', 'genres', 'rating']])\n"
   ]
  },
  {
   "cell_type": "markdown",
   "metadata": {},
   "source": [
    "The recommendations are providing a more reasonable list of movies for User 2. Each recommended movie has a rating equal to or above the threshold of 3.5, ensuring they are highly rated by the most similar user. This approach allows for a more personalized recommendation based on the preferences of similar users.\n",
    "\n",
    "The recommendations from this method make sense since there is a high cosine similarity with the most similar user. The method identifies movies highly rated by the most similar user that User 2 has not yet watched. The assumption is that users with similar movie preferences will continue to have similar preferences, and the threshold of 3.5 indicates a preference for well-rated movies. The final output provides movies, along with their details and ratings by the most similar user."
   ]
  },
  {
   "cell_type": "markdown",
   "metadata": {},
   "source": [
    "## Analysis\n",
    "\n",
    "In this collaborative filtering recommendation analysis using cosine similarity, we've employed a metric that effectively measures user similarity by considering both the direction and magnitude of preference vectors. Cosine similarity, a commonly used metric in recommendation systems, proves suitable for our purpose of gauging user similarity based on movie ratings.\n",
    "\n",
    "Upon scrutinizing the recommended movies, it is evident that they resonate with the presumed preferences of User 2. This alignment is substantiated by the high ratings, predominantly falling in the range of 3.5 and above, given by the most similar user. The fundamental idea behind this method is to propose movies that have been well-received by the similar user while excluding those that User 2 has already watched."
   ]
  }
 ],
 "metadata": {
  "kernelspec": {
   "display_name": "Python 3 (ipykernel)",
   "language": "python",
   "name": "python3"
  },
  "language_info": {
   "codemirror_mode": {
    "name": "ipython",
    "version": 3
   },
   "file_extension": ".py",
   "mimetype": "text/x-python",
   "name": "python",
   "nbconvert_exporter": "python",
   "pygments_lexer": "ipython3",
   "version": "3.11.2"
  }
 },
 "nbformat": 4,
 "nbformat_minor": 2
}
