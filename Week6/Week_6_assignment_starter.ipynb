{
 "cells": [
  {
   "cell_type": "markdown",
   "id": "ca51c4c7",
   "metadata": {},
   "source": [
    "# Assignment:"
   ]
  },
  {
   "cell_type": "markdown",
   "id": "b77e1ef2",
   "metadata": {},
   "source": [
    "1. Perform some movie recommendations and analysis for user 2:\n",
    "- How many movies has this user watched?\n",
    "- Plot a bar chart of their movie ratings. The bar chart should be the counts of the number of unique ratings.\n",
    "    - Hint: the `sort_index()` function from pandas might be helpful to make the bar plot look nicer.\n",
    "- What are some of user 2's top movies?\n",
    "    - Hint: to get the actual movie titles, you can use pandas [merge](https://pandas.pydata.org/docs/reference/api/pandas.DataFrame.merge.html) function, although using the movie IDs is OK too.\n",
    "- Find the most similar user in the movielens dataset to user 2 using at least 2 distance metrics. Be sure to use cosine distance as one of your choices.\n",
    "- Recommend a few movies for user 2 using similarity metrics.\n",
    "- Do the recommendations from this method make sense?\n",
    "- Write a short analysis of the results, and justify which similarity metric(s) you used.\n",
    "\n",
    "Optional challenges:\n",
    "- Perform other analyses (e.g. EDA, visualizations) of the movies watched from this dataset, or from a bigger part of the dataset for the movielens dataset: https://grouplens.org/datasets/movielens/\n",
    "- Add yourself as a user in the data with ratings for movies you've watched, and find recommendations for next movies to watch. \n",
    "- Use a more advanced collaborative or content-based recommender to make recommendations (e.g. using the surprise package in Python)\n",
    "    - Try making predictions for user 2. How do they compare with our basic model?\n",
    "    - Add your own movie ratings, or use another recommender dataset and add your own preferences, then get recommendations for yourself"
   ]
  },
  {
   "cell_type": "code",
   "execution_count": null,
   "id": "08fabf6f",
   "metadata": {},
   "outputs": [],
   "source": []
  },
  {
   "cell_type": "markdown",
   "id": "43c62d79",
   "metadata": {},
   "source": [
    "# Analysis/Summary"
   ]
  },
  {
   "cell_type": "markdown",
   "id": "9d6b7d48",
   "metadata": {},
   "source": [
    "For both parts of the assignment, write a short analysis and summary of what you did, the results, and the significance. Do this in a markdown cell here at the bottom, like this one."
   ]
  }
 ],
 "metadata": {
  "kernelspec": {
   "display_name": "Python 3",
   "language": "python",
   "name": "python3"
  },
  "language_info": {
   "codemirror_mode": {
    "name": "ipython",
    "version": 3
   },
   "file_extension": ".py",
   "mimetype": "text/x-python",
   "name": "python",
   "nbconvert_exporter": "python",
   "pygments_lexer": "ipython3",
   "version": "3.8.8"
  }
 },
 "nbformat": 4,
 "nbformat_minor": 5
}
